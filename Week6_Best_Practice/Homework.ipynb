{
 "cells": [
  {
   "cell_type": "markdown",
   "id": "95b3ac44-319d-4bf7-b6be-0f461ad183da",
   "metadata": {},
   "source": [
    "## Week 6 Homework\n",
    "\n",
    "In this homework, we'll take the ride duration prediction model that we deployed in batch mode in homework 4 and improve the reliability of our code with unit and integration tests.\n",
    "\n",
    "You'll find the starter code in the homework directory."
   ]
  },
  {
   "cell_type": "markdown",
   "id": "06f7dade-cc99-470d-8ade-511110c762df",
   "metadata": {},
   "source": [
    "### Q1. Refactoring\n",
    "\n",
    "Before we can start coverting our code with tests, we need to refactor it. We'll start by getting rid of all the global variables.\n",
    "\n",
    "   - Let's create a function main with two parameters: year and month.\n",
    "   - Move all the code (except read_data) inside main\n",
    "   - Make categorical a parameter for read_data and pass it inside main\n",
    "\n",
    "Now we need to create the \"main\" block from which we'll invoke the main function. How does the `if` statement that we use for this looks like?"
   ]
  },
  {
   "attachments": {
    "e103d6d2-400e-403e-a5bc-231a6e5eac08.png": {
     "image/png": "[encoded data removed]"
    }
   },
   "cell_type": "markdown",
   "id": "a8f9fa51-509b-4f4d-a283-7d0defd76c29",
   "metadata": {},
   "source": [
    "![image.png](attachment:e103d6d2-400e-403e-a5bc-231a6e5eac08.png)"
   ]
  },
  {
   "cell_type": "markdown",
   "id": "d3683393-efef-4068-bc0f-40cfdb3c3903",
   "metadata": {},
   "source": [
    "## Q2. Installing pytest\n",
    "\n",
    "Now we need to install pytest:\n",
    "\n",
    "```pipenv install --dev pytest```\n",
    "\n",
    "Next, create a folder tests and create two files. One will be the file with tests. We can name if test_batch.py.\n",
    "\n",
    "What should be the other file?\n",
    "\n",
    "Hint: to be able to test batch.py, we need to be able to import it. Without this other file, we won't be able to do it.\n",
    "\n",
    "## Answer: `__init__.py`"
   ]
  },
  {
   "cell_type": "markdown",
   "id": "e71b194b-5e12-43c2-a51e-954b298842be",
   "metadata": {},
   "source": [
    "## Q3. Writing first unit test\n",
    "\n",
    "Now let's cover our code with unit tests.\n",
    "\n",
    "We'll start with the pre-processing logic inside `read_data`.\n",
    "\n",
    "It's difficult to test right now because first reads the file and then performs some transformations. We need to split this code into two parts: reading (I/O) and tranformation.\n",
    "\n",
    "So let's create a function `prepare_data` that takes in a dataframe (and some other parameters too) and applies some tranformation to it.\n",
    "\n",
    "(That's basically the entire `read_data` function after reading the parquet file)\n",
    "\n",
    "Now create a test and use this as input:\n",
    "\n",
    "```\n",
    "data = [\n",
    "    (None, None, dt(1, 2), dt(1, 10)),\n",
    "    (1, 1, dt(1, 2), dt(1, 10)),\n",
    "    (1, 1, dt(1, 2, 0), dt(1, 2, 50)),\n",
    "    (1, 1, dt(1, 2, 0), dt(2, 2, 1)),        \n",
    "]\n",
    "\n",
    "columns = ['PUlocationID', 'DOlocationID', 'pickup_datetime', 'dropOff_datetime']\n",
    "df = pd.DataFrame(data, columns=columns)\n",
    "```\n",
    "\n",
    "Where `dt` is a helper function:\n",
    "\n",
    "```\n",
    "from datetime import datetime\n",
    "\n",
    "def dt(hour, minute, second=0):\n",
    "    return datetime(2021, 1, 1, hour, minute, second)\n",
    "```\n",
    "\n",
    "Define the expected output and use the assert to make sure that the actual dataframe matches the expected one\n",
    "\n",
    "Tip: When you compare two Pandas DataFrames, the result is also a DataFrame. The same is true for Pandas Series. Also, a DataFrame could be turned into a list of dictionaries.\n",
    "\n",
    "How many rows should be there in the expected dataframe?\n",
    "\n",
    "   - 1\n",
    "   - 2\n",
    "   - 3\n",
    "   - 4\n",
    "\n",
    "## Answer : 2"
   ]
  },
  {
   "cell_type": "markdown",
   "id": "a726a01d-5374-45dd-8cc2-4535786f903d",
   "metadata": {},
   "source": [
    "## Q4. Mocking S3 with Localstack\n",
    "\n",
    "Now let's prepare for an integration test. In our script, we write data to S3. So we'll use Localstack to mimic S3.\n",
    "\n",
    "First, let's run Localstack with Docker compose. Let's create a docker-compose.yaml file with just one service: localstack. Inside localstack, we're only interested in running S3.\n",
    "\n",
    "Start the service and test it by creating a bucket where we'll keep the output. Let's call it \"nyc-duration\".\n",
    "\n",
    "With AWS CLI, this is how we create a bucket:\n",
    "```    \n",
    "aws s3 mb s3://nyc-duration\n",
    "```\n",
    "Adjust it for localstack. How does the command look like?\n",
    "\n",
    "## Answer: `aws --endpoint-url=http://localhost:4566 s3 mb s3://nyc-duration`\n",
    "\n",
    "Check that the bucket was successfully created. With AWS, this is how we typically do it:\n",
    "```\n",
    "aws s3 ls\n",
    "```\n",
    "\n",
    "`aws --endpoint-url=http://localhost:4566 s3 ls`"
   ]
  },
  {
   "cell_type": "markdown",
   "id": "fd889ceb-bb7f-4627-9330-a71b248f5936",
   "metadata": {},
   "source": [
    "## Make input and output paths configurable\n",
    "\n",
    "Right now the input and output paths are hardcoded, but we want to change it for the tests.\n",
    "\n",
    "One of the possible ways would be to specify `INPUT_FILE_PATTERN` and `OUTPUT_FILE_PATTERN` via the env variables. Let's do that:\n",
    "```\n",
    "export INPUT_FILE_PATTERN=\"s3://nyc-duration/in/{year:04d}-{month:02d}.parquet\"\n",
    "export OUTPUT_FILE_PATTERN=\"s3://nyc-duration/out/{year:04d}-{month:02d}.parquet\"\n",
    "```\n",
    "And this is how we can read them:\n",
    "```\n",
    "def get_input_path(year, month):\n",
    "    default_input_pattern = 'https://raw.githubusercontent.com/alexeygrigorev/datasets/master/nyc-tlc/fhv/fhv_tripdata_{year:04d}-{month:02d}.parquet'\n",
    "    input_pattern = os.getenv('INPUT_FILE_PATTERN', default_input_pattern)\n",
    "    return input_pattern.format(year=year, month=month)\n",
    "\n",
    "\n",
    "def get_output_path(year, month):\n",
    "    default_output_pattern = 's3://nyc-duration-prediction-alexey/taxi_type=fhv/year={year:04d}/month={month:02d}/predictions.parquet'\n",
    "    output_pattern = os.getenv('OUTPUT_FILE_PATTERN', default_output_pattern)\n",
    "    return output_pattern.format(year=year, month=month)\n",
    "\n",
    "\n",
    "def main(year, month):\n",
    "    input_file = get_input_path(year, month)\n",
    "    output_file = get_output_path(year, month)\n",
    "    # rest of the main function ... \n",
    "```\n"
   ]
  },
  {
   "cell_type": "markdown",
   "id": "91ce7423-c6cc-425f-90f5-36980d0b9191",
   "metadata": {},
   "source": [
    "## Q5. Creating test data\n",
    "\n",
    "So far we've been reading parquet files from S3 with using pandas `read_parquet`. But this way we read it from the actual S3 service. Now we need to replace it with our localstack one.\n",
    "\n",
    "For that, we need to specify the endpoint url:\n",
    "```\n",
    "options = {\n",
    "    'client_kwargs': {\n",
    "        'endpoint_url': S3_ENDPOINT_URL\n",
    "    }\n",
    "}\n",
    "\n",
    "df = pd.read_parquet('s3://bucket/file.parquet', storage_options=options)\n",
    "```\n",
    "Now let's create integration_test.py\n",
    "\n",
    "We'll use the dataframe we created in Q3 (the dataframe for the unit test) and save it to S3. You don't need to do anything else: just create a dataframe and save it.\n",
    "\n",
    "We will pretent that this is data for January 2021.\n",
    "\n",
    "Run the `integration_test.py` script. After that, use AWS CLI to verify that the file was created.\n",
    "\n",
    "What's the size of the file?\n",
    "\n",
    "   - 3512\n",
    "   - 33512\n",
    "   - 63512\n",
    "   - 93512\n",
    "\n",
    "## Answer: 3512"
   ]
  },
  {
   "cell_type": "markdown",
   "id": "135206f1-8c85-43e2-9bfd-e7a07aa53060",
   "metadata": {},
   "source": [
    "## Q6. Finish the integration test\n",
    "\n",
    "We can read from our localstack s3, but we also need to write to it.\n",
    "\n",
    "Create a function `save_data` which works similarly to `read_data`, but we use it for saving a dataframe.\n",
    "\n",
    "Let's run the `batch.py` script for \"January 2021\" (the fake data we created in Q5).\n",
    "\n",
    "We can do that from our integration test in Python: we can use `os.system` for doing that (there are other options too).\n",
    "\n",
    "Now it saves the result to localstack.\n",
    "\n",
    "The only thing we need to do now is to read this data and verify the result is correct.\n",
    "\n",
    "What's the sum of predicted durations for the test dataframe?\n",
    "\n",
    "   - 23.05\n",
    "   - 46.23\n",
    "   - 69.28\n",
    "   - 81.78\n",
    "\n",
    "## Answer: 69.28"
   ]
  },
  {
   "cell_type": "code",
   "execution_count": null,
   "id": "2c777088-6904-4e55-b766-700d6602e2e9",
   "metadata": {},
   "outputs": [],
   "source": []
  }
 ],
 "metadata": {
  "kernelspec": {
   "display_name": "Python 3 (ipykernel)",
   "language": "python",
   "name": "python3"
  },
  "language_info": {
   "codemirror_mode": {
    "name": "ipython",
    "version": 3
   },
   "file_extension": ".py",
   "mimetype": "text/x-python",
   "name": "python",
   "nbconvert_exporter": "python",
   "pygments_lexer": "ipython3",
   "version": "3.9.12"
  },
  "vscode": {
   "interpreter": {
    "hash": "caf1c2fcf97217de91eafa76b907d50f9ea378f5ffbee7f571142d119bb6a771"
   }
  }
 },
 "nbformat": 4,
 "nbformat_minor": 5
}
