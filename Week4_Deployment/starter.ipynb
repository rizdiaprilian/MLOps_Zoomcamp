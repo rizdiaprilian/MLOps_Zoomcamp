{
 "cells": [
  {
   "cell_type": "markdown",
   "id": "bd20c0b6-e306-45a1-96e6-b5937731f310",
   "metadata": {},
   "source": [
    "### 4.8 Homework\n",
    "\n",
    "In this homework, we'll deploy the ride duration model in batch mode. Like in homework 1 and 3, we'll use the FHV data.\n",
    "\n",
    "You'll find the starter code in the homework directory."
   ]
  },
  {
   "cell_type": "code",
   "execution_count": 1,
   "id": "2c51efaa",
   "metadata": {},
   "outputs": [
    {
     "name": "stdout",
     "output_type": "stream",
     "text": [
      "scikit-learn==1.0.2\n",
      "scikit-learn-intelex==2021.20210714.120553\n"
     ]
    }
   ],
   "source": [
    "!pip freeze | grep scikit-learn"
   ]
  },
  {
   "cell_type": "code",
   "execution_count": 2,
   "id": "d91eccc3-7744-479d-9ccf-870bf5a39ca1",
   "metadata": {},
   "outputs": [
    {
     "name": "stdout",
     "output_type": "stream",
     "text": [
      "scikit-learn==1.0.2\n",
      "scikit-learn-intelex==2021.20220215.212715\n"
     ]
    }
   ],
   "source": [
    "!pip list --format=freeze | grep scikit-learn"
   ]
  },
  {
   "cell_type": "code",
   "execution_count": 1,
   "id": "0ef880a0",
   "metadata": {},
   "outputs": [],
   "source": [
    "import pickle\n",
    "import pandas as pd"
   ]
  },
  {
   "cell_type": "code",
   "execution_count": 2,
   "id": "7836ccfd",
   "metadata": {},
   "outputs": [],
   "source": [
    "with open('model.bin', 'rb') as f_in:\n",
    "    dv, lr = pickle.load(f_in)"
   ]
  },
  {
   "cell_type": "code",
   "execution_count": 3,
   "id": "41c08294",
   "metadata": {},
   "outputs": [],
   "source": [
    "categorical = ['PUlocationID', 'DOlocationID']\n",
    "\n",
    "def read_data(filename):\n",
    "    df = pd.read_parquet(filename)\n",
    "    \n",
    "    df['duration'] = df.dropOff_datetime - df.pickup_datetime\n",
    "    df['duration'] = df.duration.dt.total_seconds() / 60\n",
    "\n",
    "    df = df[(df.duration >= 1) & (df.duration <= 60)].copy()\n",
    "\n",
    "    df[categorical] = df[categorical].fillna(-1).astype('int').astype('str')\n",
    "    \n",
    "    return df"
   ]
  },
  {
   "cell_type": "code",
   "execution_count": 4,
   "id": "ff21ab5b-5ddc-49ee-97ac-037e3a939881",
   "metadata": {},
   "outputs": [
    {
     "name": "stdout",
     "output_type": "stream",
     "text": [
      "/home/ubuntu/data\n"
     ]
    }
   ],
   "source": [
    "import os\n",
    "from pathlib import Path\n",
    "\n",
    "PARENT_PATH = Path(os.getcwd()).parent.parent.parent\n",
    "DATA_PATH = os.path.join(PARENT_PATH, 'data')\n",
    "\n",
    "print(DATA_PATH)"
   ]
  },
  {
   "cell_type": "markdown",
   "id": "87fe3f84-a649-47db-a7ee-fe809c1011cc",
   "metadata": {},
   "source": [
    "### Q1. Notebook\n",
    "\n",
    "We'll start with the same notebook we ended up with in homework 1.\n",
    "\n",
    "We cleaned it a little bit and kept only the scoring part. Now it's in homework/starter.ipynb.\n",
    "\n",
    "Run this notebook for the February 2021 FVH data.\n",
    "\n",
    "What's the mean predicted duration for this dataset?\n",
    "\n",
    "- 11.19\n",
    "- 16.19\n",
    "- 21.19\n",
    "- 26.19\n"
   ]
  },
  {
   "cell_type": "code",
   "execution_count": 5,
   "id": "4854399a",
   "metadata": {},
   "outputs": [
    {
     "data": {
      "text/html": [
       "<div>\n",
       "<style scoped>\n",
       "    .dataframe tbody tr th:only-of-type {\n",
       "        vertical-align: middle;\n",
       "    }\n",
       "\n",
       "    .dataframe tbody tr th {\n",
       "        vertical-align: top;\n",
       "    }\n",
       "\n",
       "    .dataframe thead th {\n",
       "        text-align: right;\n",
       "    }\n",
       "</style>\n",
       "<table border=\"1\" class=\"dataframe\">\n",
       "  <thead>\n",
       "    <tr style=\"text-align: right;\">\n",
       "      <th></th>\n",
       "      <th>dispatching_base_num</th>\n",
       "      <th>pickup_datetime</th>\n",
       "      <th>dropOff_datetime</th>\n",
       "      <th>PUlocationID</th>\n",
       "      <th>DOlocationID</th>\n",
       "      <th>SR_Flag</th>\n",
       "      <th>Affiliated_base_number</th>\n",
       "      <th>duration</th>\n",
       "    </tr>\n",
       "  </thead>\n",
       "  <tbody>\n",
       "    <tr>\n",
       "      <th>1</th>\n",
       "      <td>B00021</td>\n",
       "      <td>2021-02-01 00:55:40</td>\n",
       "      <td>2021-02-01 01:06:20</td>\n",
       "      <td>173</td>\n",
       "      <td>82</td>\n",
       "      <td>None</td>\n",
       "      <td>B00021</td>\n",
       "      <td>10.666667</td>\n",
       "    </tr>\n",
       "    <tr>\n",
       "      <th>2</th>\n",
       "      <td>B00021</td>\n",
       "      <td>2021-02-01 00:14:03</td>\n",
       "      <td>2021-02-01 00:28:37</td>\n",
       "      <td>173</td>\n",
       "      <td>56</td>\n",
       "      <td>None</td>\n",
       "      <td>B00021</td>\n",
       "      <td>14.566667</td>\n",
       "    </tr>\n",
       "    <tr>\n",
       "      <th>3</th>\n",
       "      <td>B00021</td>\n",
       "      <td>2021-02-01 00:27:48</td>\n",
       "      <td>2021-02-01 00:35:45</td>\n",
       "      <td>82</td>\n",
       "      <td>129</td>\n",
       "      <td>None</td>\n",
       "      <td>B00021</td>\n",
       "      <td>7.950000</td>\n",
       "    </tr>\n",
       "    <tr>\n",
       "      <th>4</th>\n",
       "      <td>B00037</td>\n",
       "      <td>2021-02-01 00:12:50</td>\n",
       "      <td>2021-02-01 00:26:38</td>\n",
       "      <td>-1</td>\n",
       "      <td>225</td>\n",
       "      <td>None</td>\n",
       "      <td>B00037</td>\n",
       "      <td>13.800000</td>\n",
       "    </tr>\n",
       "    <tr>\n",
       "      <th>5</th>\n",
       "      <td>B00037</td>\n",
       "      <td>2021-02-01 00:00:37</td>\n",
       "      <td>2021-02-01 00:09:35</td>\n",
       "      <td>-1</td>\n",
       "      <td>61</td>\n",
       "      <td>None</td>\n",
       "      <td>B00037</td>\n",
       "      <td>8.966667</td>\n",
       "    </tr>\n",
       "  </tbody>\n",
       "</table>\n",
       "</div>"
      ],
      "text/plain": [
       "  dispatching_base_num     pickup_datetime    dropOff_datetime PUlocationID  \\\n",
       "1      B00021          2021-02-01 00:55:40 2021-02-01 01:06:20          173   \n",
       "2      B00021          2021-02-01 00:14:03 2021-02-01 00:28:37          173   \n",
       "3      B00021          2021-02-01 00:27:48 2021-02-01 00:35:45           82   \n",
       "4               B00037 2021-02-01 00:12:50 2021-02-01 00:26:38           -1   \n",
       "5               B00037 2021-02-01 00:00:37 2021-02-01 00:09:35           -1   \n",
       "\n",
       "  DOlocationID SR_Flag Affiliated_base_number   duration  \n",
       "1           82    None        B00021           10.666667  \n",
       "2           56    None        B00021           14.566667  \n",
       "3          129    None        B00021            7.950000  \n",
       "4          225    None                 B00037  13.800000  \n",
       "5           61    None                 B00037   8.966667  "
      ]
     },
     "execution_count": 5,
     "metadata": {},
     "output_type": "execute_result"
    }
   ],
   "source": [
    "df = read_data('https://nyc-tlc.s3.amazonaws.com/trip+data/fhv_tripdata_2021-02.parquet')\n",
    "df.head()"
   ]
  },
  {
   "cell_type": "code",
   "execution_count": 6,
   "id": "669fda0a",
   "metadata": {},
   "outputs": [
    {
     "name": "stdout",
     "output_type": "stream",
     "text": [
      "[14.53986486 13.74042222 15.59333908 ... 15.83492293 16.78317605\n",
      " 19.65462607]\n"
     ]
    }
   ],
   "source": [
    "dicts = df[categorical].to_dict(orient='records')\n",
    "X_val = dv.transform(dicts)\n",
    "y_pred = lr.predict(X_val)\n",
    "\n",
    "print(y_pred)"
   ]
  },
  {
   "cell_type": "code",
   "execution_count": 7,
   "id": "96522977-219f-4ddb-bcc3-f0322040d54d",
   "metadata": {},
   "outputs": [
    {
     "data": {
      "text/plain": [
       "16.191691679979066"
      ]
     },
     "execution_count": 7,
     "metadata": {},
     "output_type": "execute_result"
    }
   ],
   "source": [
    "import numpy as np\n",
    "\n",
    "np.mean(y_pred)"
   ]
  },
  {
   "cell_type": "markdown",
   "id": "5a64e073-84f8-4ad7-9e0e-c9cf1e3ffd74",
   "metadata": {},
   "source": [
    "### Answer: 16.19"
   ]
  },
  {
   "cell_type": "markdown",
   "id": "91a32112-23ba-45df-8aff-b9f59276cb51",
   "metadata": {},
   "source": [
    "### Q2. Preparing the output\n",
    "\n",
    "Like in the course videos, we want to prepare the dataframe with the output.\n",
    "\n",
    "First, let's create an artificial `ride_id` column:\n",
    "```\n",
    "df['ride_id'] = f'{year:04d}/{month:02d}_' + df.index.astype('str')\n",
    "```\n",
    "Next, write the ride id and the predictions to a dataframe with results.\n",
    "\n",
    "Save it as parquet:\n",
    "```\n",
    "df_result.to_parquet(\n",
    "    output_file,\n",
    "    engine='pyarrow',\n",
    "    compression=None,\n",
    "    index=False\n",
    ")\n",
    "```\n",
    "What's the size of the output file?\n",
    "\n",
    "- 9M\n",
    "- 19M\n",
    "- 29M\n",
    "- 39M\n"
   ]
  },
  {
   "cell_type": "code",
   "execution_count": 8,
   "id": "6222224a-9088-46ea-883e-45fa57f1de48",
   "metadata": {},
   "outputs": [],
   "source": [
    "year = pd.DatetimeIndex(df['pickup_datetime']).year\n",
    "month = pd.DatetimeIndex(df['pickup_datetime']).month\n",
    "\n",
    "year = year.astype('string')\n",
    "month = month.astype('string')\n",
    "\n",
    "df['ride_id'] = f'2021/02_' + df.index.astype('str')"
   ]
  },
  {
   "cell_type": "code",
   "execution_count": 9,
   "id": "26cf438c-fbae-4b80-bee3-7b5eecd83afc",
   "metadata": {},
   "outputs": [
    {
     "data": {
      "text/html": [
       "<div>\n",
       "<style scoped>\n",
       "    .dataframe tbody tr th:only-of-type {\n",
       "        vertical-align: middle;\n",
       "    }\n",
       "\n",
       "    .dataframe tbody tr th {\n",
       "        vertical-align: top;\n",
       "    }\n",
       "\n",
       "    .dataframe thead th {\n",
       "        text-align: right;\n",
       "    }\n",
       "</style>\n",
       "<table border=\"1\" class=\"dataframe\">\n",
       "  <thead>\n",
       "    <tr style=\"text-align: right;\">\n",
       "      <th></th>\n",
       "      <th>dispatching_base_num</th>\n",
       "      <th>pickup_datetime</th>\n",
       "      <th>dropOff_datetime</th>\n",
       "      <th>PUlocationID</th>\n",
       "      <th>DOlocationID</th>\n",
       "      <th>SR_Flag</th>\n",
       "      <th>Affiliated_base_number</th>\n",
       "      <th>duration</th>\n",
       "      <th>ride_id</th>\n",
       "      <th>prediction</th>\n",
       "    </tr>\n",
       "  </thead>\n",
       "  <tbody>\n",
       "    <tr>\n",
       "      <th>1</th>\n",
       "      <td>B00021</td>\n",
       "      <td>2021-02-01 00:55:40</td>\n",
       "      <td>2021-02-01 01:06:20</td>\n",
       "      <td>173</td>\n",
       "      <td>82</td>\n",
       "      <td>None</td>\n",
       "      <td>B00021</td>\n",
       "      <td>10.666667</td>\n",
       "      <td>2021/02_1</td>\n",
       "      <td>14.539865</td>\n",
       "    </tr>\n",
       "    <tr>\n",
       "      <th>2</th>\n",
       "      <td>B00021</td>\n",
       "      <td>2021-02-01 00:14:03</td>\n",
       "      <td>2021-02-01 00:28:37</td>\n",
       "      <td>173</td>\n",
       "      <td>56</td>\n",
       "      <td>None</td>\n",
       "      <td>B00021</td>\n",
       "      <td>14.566667</td>\n",
       "      <td>2021/02_2</td>\n",
       "      <td>13.740422</td>\n",
       "    </tr>\n",
       "    <tr>\n",
       "      <th>3</th>\n",
       "      <td>B00021</td>\n",
       "      <td>2021-02-01 00:27:48</td>\n",
       "      <td>2021-02-01 00:35:45</td>\n",
       "      <td>82</td>\n",
       "      <td>129</td>\n",
       "      <td>None</td>\n",
       "      <td>B00021</td>\n",
       "      <td>7.950000</td>\n",
       "      <td>2021/02_3</td>\n",
       "      <td>15.593339</td>\n",
       "    </tr>\n",
       "    <tr>\n",
       "      <th>4</th>\n",
       "      <td>B00037</td>\n",
       "      <td>2021-02-01 00:12:50</td>\n",
       "      <td>2021-02-01 00:26:38</td>\n",
       "      <td>-1</td>\n",
       "      <td>225</td>\n",
       "      <td>None</td>\n",
       "      <td>B00037</td>\n",
       "      <td>13.800000</td>\n",
       "      <td>2021/02_4</td>\n",
       "      <td>15.188118</td>\n",
       "    </tr>\n",
       "    <tr>\n",
       "      <th>5</th>\n",
       "      <td>B00037</td>\n",
       "      <td>2021-02-01 00:00:37</td>\n",
       "      <td>2021-02-01 00:09:35</td>\n",
       "      <td>-1</td>\n",
       "      <td>61</td>\n",
       "      <td>None</td>\n",
       "      <td>B00037</td>\n",
       "      <td>8.966667</td>\n",
       "      <td>2021/02_5</td>\n",
       "      <td>13.817206</td>\n",
       "    </tr>\n",
       "  </tbody>\n",
       "</table>\n",
       "</div>"
      ],
      "text/plain": [
       "  dispatching_base_num     pickup_datetime    dropOff_datetime PUlocationID  \\\n",
       "1      B00021          2021-02-01 00:55:40 2021-02-01 01:06:20          173   \n",
       "2      B00021          2021-02-01 00:14:03 2021-02-01 00:28:37          173   \n",
       "3      B00021          2021-02-01 00:27:48 2021-02-01 00:35:45           82   \n",
       "4               B00037 2021-02-01 00:12:50 2021-02-01 00:26:38           -1   \n",
       "5               B00037 2021-02-01 00:00:37 2021-02-01 00:09:35           -1   \n",
       "\n",
       "  DOlocationID SR_Flag Affiliated_base_number   duration    ride_id  \\\n",
       "1           82    None        B00021           10.666667  2021/02_1   \n",
       "2           56    None        B00021           14.566667  2021/02_2   \n",
       "3          129    None        B00021            7.950000  2021/02_3   \n",
       "4          225    None                 B00037  13.800000  2021/02_4   \n",
       "5           61    None                 B00037   8.966667  2021/02_5   \n",
       "\n",
       "   prediction  \n",
       "1   14.539865  \n",
       "2   13.740422  \n",
       "3   15.593339  \n",
       "4   15.188118  \n",
       "5   13.817206  "
      ]
     },
     "execution_count": 9,
     "metadata": {},
     "output_type": "execute_result"
    }
   ],
   "source": [
    "df['prediction'] = y_pred\n",
    "df.head()"
   ]
  },
  {
   "cell_type": "code",
   "execution_count": 10,
   "id": "8b52085c-da98-474d-b8e1-0fe489c9093d",
   "metadata": {},
   "outputs": [
    {
     "data": {
      "text/html": [
       "<div>\n",
       "<style scoped>\n",
       "    .dataframe tbody tr th:only-of-type {\n",
       "        vertical-align: middle;\n",
       "    }\n",
       "\n",
       "    .dataframe tbody tr th {\n",
       "        vertical-align: top;\n",
       "    }\n",
       "\n",
       "    .dataframe thead th {\n",
       "        text-align: right;\n",
       "    }\n",
       "</style>\n",
       "<table border=\"1\" class=\"dataframe\">\n",
       "  <thead>\n",
       "    <tr style=\"text-align: right;\">\n",
       "      <th></th>\n",
       "      <th>ride_id</th>\n",
       "      <th>prediction</th>\n",
       "    </tr>\n",
       "  </thead>\n",
       "  <tbody>\n",
       "    <tr>\n",
       "      <th>1</th>\n",
       "      <td>2021/02_1</td>\n",
       "      <td>14.539865</td>\n",
       "    </tr>\n",
       "    <tr>\n",
       "      <th>2</th>\n",
       "      <td>2021/02_2</td>\n",
       "      <td>13.740422</td>\n",
       "    </tr>\n",
       "    <tr>\n",
       "      <th>3</th>\n",
       "      <td>2021/02_3</td>\n",
       "      <td>15.593339</td>\n",
       "    </tr>\n",
       "    <tr>\n",
       "      <th>4</th>\n",
       "      <td>2021/02_4</td>\n",
       "      <td>15.188118</td>\n",
       "    </tr>\n",
       "    <tr>\n",
       "      <th>5</th>\n",
       "      <td>2021/02_5</td>\n",
       "      <td>13.817206</td>\n",
       "    </tr>\n",
       "  </tbody>\n",
       "</table>\n",
       "</div>"
      ],
      "text/plain": [
       "     ride_id  prediction\n",
       "1  2021/02_1   14.539865\n",
       "2  2021/02_2   13.740422\n",
       "3  2021/02_3   15.593339\n",
       "4  2021/02_4   15.188118\n",
       "5  2021/02_5   13.817206"
      ]
     },
     "execution_count": 10,
     "metadata": {},
     "output_type": "execute_result"
    }
   ],
   "source": [
    "df_result = df[['ride_id','prediction']]\n",
    "\n",
    "df_result.head()"
   ]
  },
  {
   "cell_type": "code",
   "execution_count": 39,
   "id": "fc177c3f-3fef-4cb3-a016-afa9232e60df",
   "metadata": {},
   "outputs": [],
   "source": [
    "df_result.to_parquet(\n",
    "    'prediction_tables.parquet',\n",
    "    engine='pyarrow',\n",
    "    compression=None,\n",
    "    index=False\n",
    ")"
   ]
  },
  {
   "cell_type": "code",
   "execution_count": 11,
   "id": "ea5c1121-16da-4bbb-9cb6-dd28f99b89d7",
   "metadata": {},
   "outputs": [
    {
     "name": "stdout",
     "output_type": "stream",
     "text": [
      "total 19308\n",
      "-rw-rw-r-- 1 ubuntu ubuntu       72 Jun 22 15:20 Dockerfile\n",
      "-rw-rw-r-- 1 ubuntu ubuntu    17760 Jun 22 15:21 model.bin\n",
      "-rw-rw-r-- 1 ubuntu ubuntu 19711435 Jun 22 15:46 prediction_tables.parquet\n",
      "-rw-rw-r-- 1 ubuntu ubuntu    22340 Jun 22 15:53 starter.ipynb\n",
      "-rw-rw-r-- 1 ubuntu ubuntu     4759 Jun 22 15:51 starter.py\n"
     ]
    }
   ],
   "source": [
    "!ls -l"
   ]
  },
  {
   "cell_type": "markdown",
   "id": "409a1f9a-1894-4c1b-9fdb-34cc3533295e",
   "metadata": {},
   "source": [
    "### Answer: 19M"
   ]
  },
  {
   "cell_type": "markdown",
   "id": "4555688f-52c3-4d37-b675-b340074f62b9",
   "metadata": {},
   "source": [
    "### Q3. Creating the scoring script\n",
    "\n",
    "Now let's turn the notebook into a script.\n",
    "\n",
    "Which command you need to execute for that?\n",
    "\n",
    "### Answer: `jupyter nbconvert started.ipynb --to python`"
   ]
  },
  {
   "cell_type": "markdown",
   "id": "853a7491-7221-456f-99d6-831237925e61",
   "metadata": {},
   "source": [
    "### Q4. Virtual environment\n",
    "\n",
    "Now let's put everything into a virtual environment. We'll use pipenv for that.\n",
    "\n",
    "Install all the required libraries. Pay attention to the Scikit-Learn version: check the starter notebook for details.\n",
    "\n",
    "After installing the libraries, pipenv creates two files: `Pipfile` and `Pipfile.lock`. The `Pipfile.lock` file keeps the hashes of the dependencies we use for the virtual env.\n",
    "\n",
    "What's the first hash for the Scikit-Learn dependency?"
   ]
  },
  {
   "attachments": {
    "5f8ad2d0-0943-4cd2-89d4-8d034a2513ea.png": {
     "image/png": "[encoded data removed]"
    }
   },
   "cell_type": "markdown",
   "id": "0aa533cc-1e2c-4d18-a592-ffc9606be9ec",
   "metadata": {},
   "source": [
    "### Answer: \n",
    "\n",
    "![image.png](attachment:5f8ad2d0-0943-4cd2-89d4-8d034a2513ea.png)"
   ]
  },
  {
   "cell_type": "markdown",
   "id": "71273029-14a0-4ab4-9d4a-bc8df0f0bfe7",
   "metadata": {
    "tags": []
   },
   "source": [
    "### Q5. Parametrize the script\n",
    "\n",
    "Let's now make the script configurable via CLI. We'll create two parameters: year and month.\n",
    "\n",
    "Run the script for March 2021.\n",
    "\n",
    "What's the mean predicted duration?\n",
    "\n",
    "- 11.29\n",
    "- 16.29\n",
    "- 21.29\n",
    "- 26.29\n",
    "\n",
    "Hint: just add a print statement to your script."
   ]
  },
  {
   "cell_type": "code",
   "execution_count": 30,
   "id": "809d8d54-5dc0-411e-a0f4-bcb9995716d5",
   "metadata": {},
   "outputs": [
    {
     "name": "stdout",
     "output_type": "stream",
     "text": [
      "16.299\n"
     ]
    }
   ],
   "source": [
    "!python starter.py \"2021\" \"03\""
   ]
  },
  {
   "cell_type": "markdown",
   "id": "2da4d37c-37f3-4223-b8a0-f4abf152e6d5",
   "metadata": {},
   "source": [
    "### Answer: 16.29"
   ]
  },
  {
   "cell_type": "markdown",
   "id": "93459b9c-9000-40ca-8753-1c89d705ef7e",
   "metadata": {
    "tags": []
   },
   "source": [
    "### Q6. Docker contaner\n",
    "\n",
    "Finally, we'll package the script in the docker container. For that, you'll need to use a base image that we prepared.\n",
    "\n",
    "This is how it looks like:\n",
    "```\n",
    "FROM python:3.9.7-slim\n",
    "\n",
    "WORKDIR /app\n",
    "COPY [ \"model2.bin\", \"model.bin\" ]\n",
    "```\n",
    "\n",
    "We pushed it to `agrigorev/zoomcamp-model:mlops-3.9.7-slim`, which you should use as your base image.\n",
    "\n",
    "That is, this is how your Dockerfile should start:\n",
    "```\n",
    "FROM agrigorev/zoomcamp-model:mlops-3.9.7-slim\n",
    "\n",
    "# do stuff here\n",
    "```\n",
    "This image already has a pickle file with a dictionary vectorizer and a model. You will need to use them.\n",
    "\n",
    "Important: don't copy the model to the docker image. You will need to use the pickle file already in the image.\n",
    "\n",
    "Now run the script with docker. What's the mean predicted duration for April 2021?\n",
    "\n",
    "- 9.96\n",
    "- 16.55\n",
    "- 25.96\n",
    "- 36.55\n"
   ]
  },
  {
   "cell_type": "markdown",
   "id": "8dded9dc-19e0-40a8-929d-f5e4e89ca2b2",
   "metadata": {},
   "source": [
    "### Answer: 16.551"
   ]
  },
  {
   "cell_type": "code",
   "execution_count": 31,
   "id": "342390e7-86bf-41f9-b976-7b083d714c45",
   "metadata": {},
   "outputs": [
    {
     "name": "stdout",
     "output_type": "stream",
     "text": [
      "{'average prediction': 16.551}\n"
     ]
    }
   ],
   "source": [
    "!python test_docker.py \"2021\" \"04\""
   ]
  }
 ],
 "metadata": {
  "kernelspec": {
   "display_name": "Python 3 (ipykernel)",
   "language": "python",
   "name": "python3"
  },
  "language_info": {
   "codemirror_mode": {
    "name": "ipython",
    "version": 3
   },
   "file_extension": ".py",
   "mimetype": "text/x-python",
   "name": "python",
   "nbconvert_exporter": "python",
   "pygments_lexer": "ipython3",
   "version": "3.9.12"
  }
 },
 "nbformat": 4,
 "nbformat_minor": 5
}
