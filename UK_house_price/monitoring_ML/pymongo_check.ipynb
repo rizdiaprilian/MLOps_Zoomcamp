{
 "cells": [
  {
   "cell_type": "code",
   "execution_count": 1,
   "metadata": {},
   "outputs": [],
   "source": [
    "import pymongo\n",
    "\n",
    "client = pymongo.MongoClient(\"mongodb://localhost:27018\")\n",
    "db = client.get_database(\"prediction_service\")"
   ]
  },
  {
   "cell_type": "code",
   "execution_count": null,
   "metadata": {},
   "outputs": [],
   "source": [
    "client['collection_name']"
   ]
  },
  {
   "cell_type": "code",
   "execution_count": null,
   "metadata": {},
   "outputs": [],
   "source": [
    "client.list_database_names()"
   ]
  },
  {
   "cell_type": "code",
   "execution_count": null,
   "metadata": {},
   "outputs": [],
   "source": [
    "db.list_collection_names()"
   ]
  },
  {
   "cell_type": "code",
   "execution_count": 2,
   "metadata": {},
   "outputs": [
    {
     "data": {
      "text/plain": [
       "[{'_id': ObjectId('630a7e4f1bf04d8448cd7af1'),\n",
       "  'Date': '2022-02-01',\n",
       "  'Region_Name': 'Oxford',\n",
       "  'Area_Code': 'E07000178',\n",
       "  'Average_Price': 460257.7815,\n",
       "  'Monthly_Change': 0.742726629,\n",
       "  'Annual_Change': 6.615558077,\n",
       "  'Average_Price_SA': None,\n",
       "  '__index_level_0__': 132201,\n",
       "  'id': 'ab8d3e28-5f35-4c0d-a7ea-cd72c0467b6a',\n",
       "  'ds': '2022-02-01',\n",
       "  'y': 460257.7815,\n",
       "  'pred': 506189.795284272,\n",
       "  'pred_low': 489219.19708384713,\n",
       "  'pred_high': 525474.4433044556},\n",
       " {'_id': ObjectId('630a7e521bf04d8448cd7af2'),\n",
       "  'Date': '2022-03-01',\n",
       "  'Region_Name': 'Oxford',\n",
       "  'Area_Code': 'E07000178',\n",
       "  'Average_Price': 469267.1391,\n",
       "  'Monthly_Change': 1.957459062,\n",
       "  'Annual_Change': 8.211428447,\n",
       "  'Average_Price_SA': None,\n",
       "  '__index_level_0__': 132599,\n",
       "  'id': 'c5f5a3fa-fbaa-4042-8842-8a587e8af7c0',\n",
       "  'ds': '2022-03-01',\n",
       "  'y': 469267.1391,\n",
       "  'pred': 508122.05239149986,\n",
       "  'pred_low': 489327.85351509316,\n",
       "  'pred_high': 526716.6067882205},\n",
       " {'_id': ObjectId('630a7e551bf04d8448cd7af3'),\n",
       "  'Date': '2022-04-01',\n",
       "  'Region_Name': 'Oxford',\n",
       "  'Area_Code': 'E07000178',\n",
       "  'Average_Price': 458162.5468,\n",
       "  'Monthly_Change': -2.366369046,\n",
       "  'Annual_Change': 4.634701058,\n",
       "  'Average_Price_SA': None,\n",
       "  '__index_level_0__': 132977,\n",
       "  'id': '92ba2e46-c16a-4345-b348-b885441b37b9',\n",
       "  'ds': '2022-04-01',\n",
       "  'y': 458162.5468,\n",
       "  'pred': 509376.14027950243,\n",
       "  'pred_low': 490533.4190185318,\n",
       "  'pred_high': 529342.2622066104},\n",
       " {'_id': ObjectId('630a7e591bf04d8448cd7af4'),\n",
       "  'Date': '2022-05-01',\n",
       "  'Region_Name': 'Oxford',\n",
       "  'Area_Code': 'E07000178',\n",
       "  'Average_Price': 468381.9876,\n",
       "  'Monthly_Change': 2.230527328,\n",
       "  'Annual_Change': 5.43228062,\n",
       "  'Average_Price_SA': None,\n",
       "  '__index_level_0__': 133406,\n",
       "  'id': 'a4e1baef-5d0a-4b00-aa77-ef6241c0e3cf',\n",
       "  'ds': '2022-05-01',\n",
       "  'y': 468381.9876,\n",
       "  'pred': 512798.25607817114,\n",
       "  'pred_low': 492126.7324513076,\n",
       "  'pred_high': 531649.3096221898},\n",
       " {'_id': ObjectId('630a7e5c1bf04d8448cd7af5'),\n",
       "  'Date': '2022-06-01',\n",
       "  'Region_Name': 'Oxford',\n",
       "  'Area_Code': 'E07000178',\n",
       "  'Average_Price': 473526.511,\n",
       "  'Monthly_Change': 1.098360625,\n",
       "  'Annual_Change': 5.079264491,\n",
       "  'Average_Price_SA': None,\n",
       "  '__index_level_0__': 133849,\n",
       "  'id': '2745ac55-f1e8-41a3-b024-e6ad09ceb731',\n",
       "  'ds': '2022-06-01',\n",
       "  'y': 473526.511,\n",
       "  'pred': 516434.7508357898,\n",
       "  'pred_low': 495777.3573388916,\n",
       "  'pred_high': 535494.9162705205}]"
      ]
     },
     "execution_count": 2,
     "metadata": {},
     "output_type": "execute_result"
    }
   ],
   "source": [
    "## Rerun this script and the length of this list keeps increases when the script send_data.py is running\n",
    "data_collection = db.get_collection(\"data_forecasting\")\n",
    "data = list(data_collection.find())\n",
    "data[-5:]"
   ]
  },
  {
   "cell_type": "code",
   "execution_count": null,
   "metadata": {},
   "outputs": [],
   "source": [
    "\n",
    "\n",
    "report_collection = db.get_collection(\"report\")\n",
    "reports = list(report_collection.find())\n",
    "reports"
   ]
  },
  {
   "cell_type": "code",
   "execution_count": null,
   "metadata": {},
   "outputs": [],
   "source": [
    "reports"
   ]
  }
 ],
 "metadata": {
  "kernelspec": {
   "display_name": "Python 3.9.12 ('mlops_monitor')",
   "language": "python",
   "name": "python3"
  },
  "language_info": {
   "codemirror_mode": {
    "name": "ipython",
    "version": 3
   },
   "file_extension": ".py",
   "mimetype": "text/x-python",
   "name": "python",
   "nbconvert_exporter": "python",
   "pygments_lexer": "ipython3",
   "version": "3.9.12"
  },
  "vscode": {
   "interpreter": {
    "hash": "2a1eb258720f9e672d5ae0f60dcdd0ae8e12c2ee3b57a3db763f863a650f660c"
   }
  }
 },
 "nbformat": 4,
 "nbformat_minor": 4
}
