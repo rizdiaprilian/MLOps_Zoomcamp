{
 "cells": [
  {
   "cell_type": "code",
   "execution_count": 5,
   "metadata": {},
   "outputs": [],
   "source": [
    "import pandas as pd\n",
    "import pickle\n",
    "import seaborn as sns\n",
    "import matplotlib.pyplot as plt\n",
    "\n",
    "from sklearn.feature_extraction import DictVectorizer\n",
    "from sklearn.linear_model import LinearRegression\n",
    "from sklearn.linear_model import Lasso\n",
    "from sklearn.linear_model import Ridge\n",
    "from sklearn.metrics import mean_squared_error"
   ]
  },
  {
   "cell_type": "code",
   "execution_count": 6,
   "metadata": {},
   "outputs": [],
   "source": [
    "import mlflow\n",
    "\n",
    "mlflow.set_tracking_uri(\"sqlite:///mlflow.db\")\n",
    "mlflow.set_experiment(\"green-ny-taxi-experiment\")"
   ]
  },
  {
   "cell_type": "code",
   "execution_count": 7,
   "metadata": {},
   "outputs": [
    {
     "name": "stdout",
     "output_type": "stream",
     "text": [
      "D:\\github_repos\\mlops-zoomcamp\\data\n"
     ]
    }
   ],
   "source": [
    "import os\n",
    "from pathlib import Path\n",
    "\n",
    "PATH = Path(os.getcwd()).parent\n",
    "DATA_PATH = os.path.join(PATH, 'data')\n",
    "print(DATA_PATH)"
   ]
  },
  {
   "cell_type": "code",
   "execution_count": 13,
   "metadata": {},
   "outputs": [],
   "source": [
    "df_green = pd.read_parquet(os.path.join(DATA_PATH, 'green_tripdata_2021-01.parquet'))"
   ]
  },
  {
   "cell_type": "code",
   "execution_count": 14,
   "metadata": {},
   "outputs": [],
   "source": [
    "### Reducing memory usage\n",
    "for col in df_green.columns:\n",
    "    if df_green[col].dtypes == 'float64':\n",
    "        df_green[col] = df_green[col].astype('float16')\n",
    "    elif df_green[col].dtypes == 'int64':\n",
    "        df_green[col] = df_green[col].astype('int16')\n",
    "    else:\n",
    "        continue"
   ]
  },
  {
   "cell_type": "code",
   "execution_count": 16,
   "metadata": {},
   "outputs": [
    {
     "data": {
      "text/html": [
       "<div>\n",
       "<style scoped>\n",
       "    .dataframe tbody tr th:only-of-type {\n",
       "        vertical-align: middle;\n",
       "    }\n",
       "\n",
       "    .dataframe tbody tr th {\n",
       "        vertical-align: top;\n",
       "    }\n",
       "\n",
       "    .dataframe thead th {\n",
       "        text-align: right;\n",
       "    }\n",
       "</style>\n",
       "<table border=\"1\" class=\"dataframe\">\n",
       "  <thead>\n",
       "    <tr style=\"text-align: right;\">\n",
       "      <th></th>\n",
       "      <th>VendorID</th>\n",
       "      <th>lpep_pickup_datetime</th>\n",
       "      <th>lpep_dropoff_datetime</th>\n",
       "      <th>store_and_fwd_flag</th>\n",
       "      <th>RatecodeID</th>\n",
       "      <th>PULocationID</th>\n",
       "      <th>DOLocationID</th>\n",
       "      <th>passenger_count</th>\n",
       "      <th>trip_distance</th>\n",
       "      <th>fare_amount</th>\n",
       "      <th>extra</th>\n",
       "      <th>mta_tax</th>\n",
       "      <th>tip_amount</th>\n",
       "      <th>tolls_amount</th>\n",
       "      <th>ehail_fee</th>\n",
       "      <th>improvement_surcharge</th>\n",
       "      <th>total_amount</th>\n",
       "      <th>payment_type</th>\n",
       "      <th>trip_type</th>\n",
       "      <th>congestion_surcharge</th>\n",
       "    </tr>\n",
       "  </thead>\n",
       "  <tbody>\n",
       "    <tr>\n",
       "      <th>0</th>\n",
       "      <td>2</td>\n",
       "      <td>2021-01-01 00:15:56</td>\n",
       "      <td>2021-01-01 00:19:52</td>\n",
       "      <td>N</td>\n",
       "      <td>1.0</td>\n",
       "      <td>43</td>\n",
       "      <td>151</td>\n",
       "      <td>1.0</td>\n",
       "      <td>1.009766</td>\n",
       "      <td>5.5</td>\n",
       "      <td>0.5</td>\n",
       "      <td>0.5</td>\n",
       "      <td>0.000000</td>\n",
       "      <td>0.0</td>\n",
       "      <td>None</td>\n",
       "      <td>0.300049</td>\n",
       "      <td>6.800781</td>\n",
       "      <td>2.0</td>\n",
       "      <td>1.0</td>\n",
       "      <td>0.00</td>\n",
       "    </tr>\n",
       "    <tr>\n",
       "      <th>1</th>\n",
       "      <td>2</td>\n",
       "      <td>2021-01-01 00:25:59</td>\n",
       "      <td>2021-01-01 00:34:44</td>\n",
       "      <td>N</td>\n",
       "      <td>1.0</td>\n",
       "      <td>166</td>\n",
       "      <td>239</td>\n",
       "      <td>1.0</td>\n",
       "      <td>2.529297</td>\n",
       "      <td>10.0</td>\n",
       "      <td>0.5</td>\n",
       "      <td>0.5</td>\n",
       "      <td>2.810547</td>\n",
       "      <td>0.0</td>\n",
       "      <td>None</td>\n",
       "      <td>0.300049</td>\n",
       "      <td>16.859375</td>\n",
       "      <td>1.0</td>\n",
       "      <td>1.0</td>\n",
       "      <td>2.75</td>\n",
       "    </tr>\n",
       "    <tr>\n",
       "      <th>2</th>\n",
       "      <td>2</td>\n",
       "      <td>2021-01-01 00:45:57</td>\n",
       "      <td>2021-01-01 00:51:55</td>\n",
       "      <td>N</td>\n",
       "      <td>1.0</td>\n",
       "      <td>41</td>\n",
       "      <td>42</td>\n",
       "      <td>1.0</td>\n",
       "      <td>1.120117</td>\n",
       "      <td>6.0</td>\n",
       "      <td>0.5</td>\n",
       "      <td>0.5</td>\n",
       "      <td>1.000000</td>\n",
       "      <td>0.0</td>\n",
       "      <td>None</td>\n",
       "      <td>0.300049</td>\n",
       "      <td>8.296875</td>\n",
       "      <td>1.0</td>\n",
       "      <td>1.0</td>\n",
       "      <td>0.00</td>\n",
       "    </tr>\n",
       "    <tr>\n",
       "      <th>3</th>\n",
       "      <td>2</td>\n",
       "      <td>2020-12-31 23:57:51</td>\n",
       "      <td>2021-01-01 00:04:56</td>\n",
       "      <td>N</td>\n",
       "      <td>1.0</td>\n",
       "      <td>168</td>\n",
       "      <td>75</td>\n",
       "      <td>1.0</td>\n",
       "      <td>1.990234</td>\n",
       "      <td>8.0</td>\n",
       "      <td>0.5</td>\n",
       "      <td>0.5</td>\n",
       "      <td>0.000000</td>\n",
       "      <td>0.0</td>\n",
       "      <td>None</td>\n",
       "      <td>0.300049</td>\n",
       "      <td>9.296875</td>\n",
       "      <td>2.0</td>\n",
       "      <td>1.0</td>\n",
       "      <td>0.00</td>\n",
       "    </tr>\n",
       "    <tr>\n",
       "      <th>4</th>\n",
       "      <td>2</td>\n",
       "      <td>2021-01-01 00:16:36</td>\n",
       "      <td>2021-01-01 00:16:40</td>\n",
       "      <td>N</td>\n",
       "      <td>2.0</td>\n",
       "      <td>265</td>\n",
       "      <td>265</td>\n",
       "      <td>3.0</td>\n",
       "      <td>0.000000</td>\n",
       "      <td>-52.0</td>\n",
       "      <td>0.0</td>\n",
       "      <td>-0.5</td>\n",
       "      <td>0.000000</td>\n",
       "      <td>0.0</td>\n",
       "      <td>None</td>\n",
       "      <td>-0.300049</td>\n",
       "      <td>-52.812500</td>\n",
       "      <td>3.0</td>\n",
       "      <td>1.0</td>\n",
       "      <td>0.00</td>\n",
       "    </tr>\n",
       "  </tbody>\n",
       "</table>\n",
       "</div>"
      ],
      "text/plain": [
       "   VendorID lpep_pickup_datetime lpep_dropoff_datetime store_and_fwd_flag  \\\n",
       "0         2  2021-01-01 00:15:56   2021-01-01 00:19:52                  N   \n",
       "1         2  2021-01-01 00:25:59   2021-01-01 00:34:44                  N   \n",
       "2         2  2021-01-01 00:45:57   2021-01-01 00:51:55                  N   \n",
       "3         2  2020-12-31 23:57:51   2021-01-01 00:04:56                  N   \n",
       "4         2  2021-01-01 00:16:36   2021-01-01 00:16:40                  N   \n",
       "\n",
       "   RatecodeID  PULocationID  DOLocationID  passenger_count  trip_distance  \\\n",
       "0         1.0            43           151              1.0       1.009766   \n",
       "1         1.0           166           239              1.0       2.529297   \n",
       "2         1.0            41            42              1.0       1.120117   \n",
       "3         1.0           168            75              1.0       1.990234   \n",
       "4         2.0           265           265              3.0       0.000000   \n",
       "\n",
       "   fare_amount  extra  mta_tax  tip_amount  tolls_amount ehail_fee  \\\n",
       "0          5.5    0.5      0.5    0.000000           0.0      None   \n",
       "1         10.0    0.5      0.5    2.810547           0.0      None   \n",
       "2          6.0    0.5      0.5    1.000000           0.0      None   \n",
       "3          8.0    0.5      0.5    0.000000           0.0      None   \n",
       "4        -52.0    0.0     -0.5    0.000000           0.0      None   \n",
       "\n",
       "   improvement_surcharge  total_amount  payment_type  trip_type  \\\n",
       "0               0.300049      6.800781           2.0        1.0   \n",
       "1               0.300049     16.859375           1.0        1.0   \n",
       "2               0.300049      8.296875           1.0        1.0   \n",
       "3               0.300049      9.296875           2.0        1.0   \n",
       "4              -0.300049    -52.812500           3.0        1.0   \n",
       "\n",
       "   congestion_surcharge  \n",
       "0                  0.00  \n",
       "1                  2.75  \n",
       "2                  0.00  \n",
       "3                  0.00  \n",
       "4                  0.00  "
      ]
     },
     "execution_count": 16,
     "metadata": {},
     "output_type": "execute_result"
    }
   ],
   "source": [
    "df_green.head()"
   ]
  },
  {
   "cell_type": "code",
   "execution_count": 17,
   "metadata": {},
   "outputs": [],
   "source": [
    "df_green['duration'] = df_green.lpep_dropoff_datetime - df_green.lpep_pickup_datetime\n",
    "df_green.duration = df_green.duration.apply(lambda td: td.total_seconds() / 60)\n",
    "df_green_filt = df_green[(df_green.duration >= 1) & (df_green.duration <= 60)]"
   ]
  },
  {
   "cell_type": "code",
   "execution_count": 18,
   "metadata": {},
   "outputs": [
    {
     "name": "stderr",
     "output_type": "stream",
     "text": [
      "C:\\Users\\rizdi\\miniconda3\\envs\\env_python38\\lib\\site-packages\\seaborn\\distributions.py:2557: FutureWarning: `distplot` is a deprecated function and will be removed in a future version. Please adapt your code to use either `displot` (a figure-level function with similar flexibility) or `histplot` (an axes-level function for histograms).\n",
      "  warnings.warn(msg, FutureWarning)\n"
     ]
    },
    {
     "data": {
      "image/png": "[encoded data removed]",
      "text/plain": [
       "<Figure size 640x480 with 1 Axes>"
      ]
     },
     "metadata": {},
     "output_type": "display_data"
    }
   ],
   "source": [
    "sns.distplot(df_green_filt.duration)\n",
    "plt.show()"
   ]
  },
  {
   "cell_type": "code",
   "execution_count": 8,
   "metadata": {},
   "outputs": [],
   "source": [
    "def read_dataframe(filename):\n",
    "    if filename.endswith('.csv'):\n",
    "        df_hw = pd.read_csv(filename)\n",
    "    elif filename.endswith('.parquet'):\n",
    "        df_hw = pd.read_parquet(filename)\n",
    "    \n",
    "    df_hw['duration'] = df_hw.lpep_dropoff_datetime - df_hw.lpep_pickup_datetime\n",
    "    df_hw.duration = df_hw.duration.apply(lambda td: td.total_seconds() / 60)\n",
    "    df_hw = df_hw[(df_hw.duration >= 1) & (df_hw.duration <= 60)]\n",
    "    df_hw.PULocationID = df_hw.PULocationID.fillna(-1)\n",
    "    df_hw.DOLocationID = df_hw.DOLocationID.fillna(-1)\n",
    "    categorical = ['PULocationID', 'DOLocationID']\n",
    "    df_hw[categorical] = df_hw[categorical].astype(str)\n",
    "    \n",
    "    return df_hw"
   ]
  },
  {
   "cell_type": "code",
   "execution_count": 9,
   "metadata": {},
   "outputs": [],
   "source": [
    "df_train = read_dataframe(os.path.join(DATA_PATH, 'green_tripdata_2021-01.parquet'))\n",
    "df_val = read_dataframe(os.path.join(DATA_PATH, 'green_tripdata_2021-02.parquet'))"
   ]
  },
  {
   "cell_type": "code",
   "execution_count": 10,
   "metadata": {},
   "outputs": [],
   "source": [
    "for col in df_train.columns:\n",
    "    if df_train[col].dtypes == 'float64':\n",
    "        df_train[col] = df_train[col].astype('float16')\n",
    "    elif df_train[col].dtypes == 'int64':\n",
    "        df_train[col] = df_train[col].astype('int16')\n",
    "    else:\n",
    "        continue"
   ]
  },
  {
   "cell_type": "code",
   "execution_count": 11,
   "metadata": {},
   "outputs": [],
   "source": [
    "for col in df_val.columns:\n",
    "    if df_val[col].dtypes == 'float64':\n",
    "        df_val[col] = df_val[col].astype('float16')\n",
    "    elif df_val[col].dtypes == 'int64':\n",
    "        df_val[col] = df_val[col].astype('int16')\n",
    "    else:\n",
    "        continue"
   ]
  },
  {
   "cell_type": "code",
   "execution_count": 12,
   "metadata": {},
   "outputs": [],
   "source": [
    "categorical = ['PULocationID', 'DOLocationID']\n",
    "train_dicts = df_train[categorical].to_dict(orient='records')\n",
    "dv = DictVectorizer()\n",
    "X_train = dv.fit_transform(train_dicts)"
   ]
  },
  {
   "cell_type": "code",
   "execution_count": 13,
   "metadata": {},
   "outputs": [
    {
     "name": "stdout",
     "output_type": "stream",
     "text": [
      "RMSE: 9.775618251703772\n"
     ]
    }
   ],
   "source": [
    "target = 'duration'\n",
    "y_train = df_train[target].values\n",
    "\n",
    "lr = LinearRegression()\n",
    "lr.fit(X_train, y_train)\n",
    "y_pred = lr.predict(X_train)\n",
    "\n",
    "error_rmse = mean_squared_error(y_train, y_pred, squared=False)\n",
    "print(f'RMSE: {error_rmse}')"
   ]
  },
  {
   "cell_type": "code",
   "execution_count": 14,
   "metadata": {},
   "outputs": [
    {
     "name": "stdout",
     "output_type": "stream",
     "text": [
      "RMSE: 10.473744099859287\n"
     ]
    }
   ],
   "source": [
    "val_dicts = df_val[categorical].to_dict(orient='records')\n",
    "\n",
    "X_val = dv.transform(val_dicts)\n",
    "y_val = df_val[target].values\n",
    "y_pred_val = lr.predict(X_val)\n",
    "\n",
    "error_rmse = mean_squared_error(y_val, y_pred_val, squared=False)\n",
    "print(f'RMSE: {error_rmse}')"
   ]
  },
  {
   "cell_type": "code",
   "execution_count": 15,
   "metadata": {},
   "outputs": [],
   "source": [
    "with open('models/lin_reg.bin', 'wb') as f_out:\n",
    "    pickle.dump((dv, lr), f_out)"
   ]
  },
  {
   "cell_type": "code",
   "execution_count": 16,
   "metadata": {},
   "outputs": [
    {
     "name": "stdout",
     "output_type": "stream",
     "text": [
      "RMSE: 11.059538932584788\n"
     ]
    }
   ],
   "source": [
    "lr_lasso = Lasso(0.1)\n",
    "lr_lasso.fit(X_train, y_train)\n",
    "\n",
    "y_pred_lasso = lr_lasso.predict(X_train)\n",
    "error_rmse = mean_squared_error(y_train, y_pred_lasso, squared=False)\n",
    "print(f'RMSE: {error_rmse}')"
   ]
  },
  {
   "cell_type": "code",
   "execution_count": 38,
   "metadata": {},
   "outputs": [],
   "source": [
    "with mlflow.start_run():\n",
    "\n",
    "    mlflow.set_tag(\"developer\", \"rizdi\")\n",
    "\n",
    "    mlflow.log_param(\"train-data-path\", os.path.join(DATA_PATH, 'green_tripdata_2021-01.parquet'))\n",
    "    mlflow.log_param(\"valid-data-path\", os.path.join(DATA_PATH, 'green_tripdata_2021-02.parquet'))\n",
    "\n",
    "    alpha = 2\n",
    "    mlflow.log_param(\"alpha\", alpha)\n",
    "    lr = Lasso(alpha)\n",
    "    lr.fit(X_train, y_train)\n",
    "\n",
    "    y_pred = lr.predict(X_val)\n",
    "    rmse = mean_squared_error(y_val, y_pred, squared=False)\n",
    "    mlflow.log_metric(\"rmse\", rmse)\n",
    "\n",
    "    # mlflow.log_artifact(local_path=\"models/lin_reg.bin\", artifact_path=\"models_pickle\")"
   ]
  },
  {
   "cell_type": "code",
   "execution_count": 17,
   "metadata": {},
   "outputs": [],
   "source": [
    "import xgboost as xgb\n",
    "from hyperopt import fmin, tpe, hp, STATUS_OK, Trials\n",
    "from hyperopt.pyll import scope"
   ]
  },
  {
   "cell_type": "code",
   "execution_count": 18,
   "metadata": {},
   "outputs": [],
   "source": [
    "train = xgb.DMatrix(X_train, label=y_train)\n",
    "valid = xgb.DMatrix(X_val, label=y_val)"
   ]
  },
  {
   "cell_type": "code",
   "execution_count": 19,
   "metadata": {},
   "outputs": [],
   "source": [
    "def objective(params):\n",
    "    with mlflow.start_run():\n",
    "        mlflow.set_tag(\"model\", \"xgboost\")\n",
    "        mlflow.log_params(params)\n",
    "        booster = xgb.train(\n",
    "            params=params,\n",
    "            dtrain=train,\n",
    "            num_boost_round=1000,\n",
    "            evals=[(valid, 'validation')],\n",
    "            early_stopping_rounds=50\n",
    "        )\n",
    "        y_pred = booster.predict(valid)\n",
    "        rmse = mean_squared_error(y_val, y_pred, squared=False)\n",
    "        mlflow.log_metric(\"rmse\", rmse)\n",
    "\n",
    "    return {'loss': rmse, 'status': STATUS_OK}"
   ]
  },
  {
   "cell_type": "code",
   "execution_count": 20,
   "metadata": {},
   "outputs": [],
   "source": [
    "search_space = {\n",
    "    'max_depth': scope.int(hp.quniform('max_depth', 4, 100, 1)),\n",
    "    'learning_rate': hp.loguniform('learning_rate', -4, 2), # exp(-3), exp(0)\n",
    "    'reg_alpha': hp.loguniform('reg_alpha', -5, 1),\n",
    "    'reg_lambda': hp.loguniform('reg_lambda', -6, 1),\n",
    "    'min_child_weight': hp.loguniform('min_child_weight', -1, 4),\n",
    "    'objective': 'reg:linear',\n",
    "    'seed': 42\n",
    "}\n",
    "\n",
    "best_result = fmin(\n",
    "    fn=objective,\n",
    "    space=search_space,\n",
    "    algo=tpe.suggest,\n",
    "    max_evals=50,\n",
    "    trials=Trials()\n",
    ")"
   ]
  },
  {
   "cell_type": "code",
   "execution_count": 23,
   "metadata": {},
   "outputs": [],
   "source": [
    "mlflow.xgboost.autolog(disable=True)"
   ]
  },
  {
   "cell_type": "code",
   "execution_count": 26,
   "metadata": {},
   "outputs": [
    {
     "name": "stdout",
     "output_type": "stream",
     "text": [
      "[12:49:17] WARNING: c:\\ci\\xgboost-split_1619728435298\\work\\src\\objective\\regression_obj.cu:170: reg:linear is now deprecated in favor of reg:squarederror.\n",
      "[0]\tvalidation-rmse:13.10621\n",
      "[1]\tvalidation-rmse:10.01233\n",
      "[2]\tvalidation-rmse:8.99499\n",
      "[3]\tvalidation-rmse:8.36976\n",
      "[4]\tvalidation-rmse:8.12730\n",
      "[5]\tvalidation-rmse:8.02081\n",
      "[6]\tvalidation-rmse:7.91743\n",
      "[7]\tvalidation-rmse:7.79279\n",
      "[8]\tvalidation-rmse:7.75740\n",
      "[9]\tvalidation-rmse:7.70608\n",
      "[10]\tvalidation-rmse:7.68295\n",
      "[11]\tvalidation-rmse:7.66933\n",
      "[12]\tvalidation-rmse:7.64945\n",
      "[13]\tvalidation-rmse:7.64260\n",
      "[14]\tvalidation-rmse:7.63227\n",
      "[15]\tvalidation-rmse:7.62482\n",
      "[16]\tvalidation-rmse:7.61925\n",
      "[17]\tvalidation-rmse:7.61305\n",
      "[18]\tvalidation-rmse:7.61156\n",
      "[19]\tvalidation-rmse:7.60921\n",
      "[20]\tvalidation-rmse:7.60613\n",
      "[21]\tvalidation-rmse:7.60110\n",
      "[22]\tvalidation-rmse:7.59434\n",
      "[23]\tvalidation-rmse:7.59271\n",
      "[24]\tvalidation-rmse:7.59101\n",
      "[25]\tvalidation-rmse:7.58961\n",
      "[26]\tvalidation-rmse:7.58640\n",
      "[27]\tvalidation-rmse:7.57911\n",
      "[28]\tvalidation-rmse:7.57505\n",
      "[29]\tvalidation-rmse:7.57102\n",
      "[30]\tvalidation-rmse:7.56749\n",
      "[31]\tvalidation-rmse:7.56532\n",
      "[32]\tvalidation-rmse:7.56325\n",
      "[33]\tvalidation-rmse:7.56000\n",
      "[34]\tvalidation-rmse:7.55793\n",
      "[35]\tvalidation-rmse:7.55575\n",
      "[36]\tvalidation-rmse:7.55288\n",
      "[37]\tvalidation-rmse:7.54840\n",
      "[38]\tvalidation-rmse:7.54586\n",
      "[39]\tvalidation-rmse:7.54361\n",
      "[40]\tvalidation-rmse:7.53904\n",
      "[41]\tvalidation-rmse:7.53613\n",
      "[42]\tvalidation-rmse:7.53501\n",
      "[43]\tvalidation-rmse:7.53195\n",
      "[44]\tvalidation-rmse:7.52842\n",
      "[45]\tvalidation-rmse:7.52534\n",
      "[46]\tvalidation-rmse:7.52211\n",
      "[47]\tvalidation-rmse:7.51805\n",
      "[48]\tvalidation-rmse:7.51653\n",
      "[49]\tvalidation-rmse:7.51662\n",
      "[50]\tvalidation-rmse:7.51582\n",
      "[51]\tvalidation-rmse:7.51376\n",
      "[52]\tvalidation-rmse:7.51009\n",
      "[53]\tvalidation-rmse:7.50704\n",
      "[54]\tvalidation-rmse:7.50388\n",
      "[55]\tvalidation-rmse:7.50256\n",
      "[56]\tvalidation-rmse:7.49979\n",
      "[57]\tvalidation-rmse:7.49999\n",
      "[58]\tvalidation-rmse:7.49940\n",
      "[59]\tvalidation-rmse:7.49848\n",
      "[60]\tvalidation-rmse:7.49461\n",
      "[61]\tvalidation-rmse:7.49213\n",
      "[62]\tvalidation-rmse:7.49018\n",
      "[63]\tvalidation-rmse:7.49050\n",
      "[64]\tvalidation-rmse:7.48745\n",
      "[65]\tvalidation-rmse:7.48481\n",
      "[66]\tvalidation-rmse:7.48473\n",
      "[67]\tvalidation-rmse:7.48282\n",
      "[68]\tvalidation-rmse:7.48076\n",
      "[69]\tvalidation-rmse:7.47861\n",
      "[70]\tvalidation-rmse:7.47356\n",
      "[71]\tvalidation-rmse:7.46978\n",
      "[72]\tvalidation-rmse:7.46933\n",
      "[73]\tvalidation-rmse:7.46836\n",
      "[74]\tvalidation-rmse:7.46819\n",
      "[75]\tvalidation-rmse:7.46652\n",
      "[76]\tvalidation-rmse:7.46560\n",
      "[77]\tvalidation-rmse:7.46469\n",
      "[78]\tvalidation-rmse:7.46185\n",
      "[79]\tvalidation-rmse:7.46110\n",
      "[80]\tvalidation-rmse:7.45909\n",
      "[81]\tvalidation-rmse:7.45801\n",
      "[82]\tvalidation-rmse:7.45655\n",
      "[83]\tvalidation-rmse:7.45737\n",
      "[84]\tvalidation-rmse:7.45313\n",
      "[85]\tvalidation-rmse:7.45056\n",
      "[86]\tvalidation-rmse:7.44933\n",
      "[87]\tvalidation-rmse:7.44934\n",
      "[88]\tvalidation-rmse:7.44924\n",
      "[89]\tvalidation-rmse:7.44516\n",
      "[90]\tvalidation-rmse:7.44220\n",
      "[91]\tvalidation-rmse:7.44102\n",
      "[92]\tvalidation-rmse:7.44062\n",
      "[93]\tvalidation-rmse:7.43946\n",
      "[94]\tvalidation-rmse:7.43715\n",
      "[95]\tvalidation-rmse:7.43497\n",
      "[96]\tvalidation-rmse:7.43280\n",
      "[97]\tvalidation-rmse:7.43201\n",
      "[98]\tvalidation-rmse:7.42908\n",
      "[99]\tvalidation-rmse:7.42702\n"
     ]
    },
    {
     "name": "stderr",
     "output_type": "stream",
     "text": [
      "2022/05/24 12:49:55 WARNING mlflow.xgboost: Failed to infer model signature: Expected one of (pandas.DataFrame, numpy array, dictionary of (name -> numpy.ndarray), pyspark.sql.DataFrame) but got '<class 'scipy.sparse.csr.csr_matrix'>'\n"
     ]
    }
   ],
   "source": [
    "with mlflow.start_run():\n",
    "    \n",
    "    train = xgb.DMatrix(X_train, label=y_train)\n",
    "    valid = xgb.DMatrix(X_val, label=y_val)\n",
    "    \n",
    "    best_params = {\n",
    "    \"learning_rate\"\t: 0.5433168636900741,\n",
    "    \"max_depth\"\t: 95,\n",
    "    \"min_child_weight\"\t: 3.442801240035391,\n",
    "    \"objective\"\t: \"reg:linear\",\n",
    "    \"reg_alpha\"\t: 0.1716441037050751,\n",
    "    \"reg_lambda\"\t: 0.09320995079269823,\n",
    "    \"seed\"\t: 42\n",
    "        }\n",
    "\n",
    "    # mlflow.log_params(best_params)\n",
    "    mlflow.xgboost.autolog()\n",
    "    booster = xgb.train(\n",
    "        params=best_params,\n",
    "        dtrain=train,\n",
    "        num_boost_round=100,\n",
    "        evals=[(valid, 'validation')],\n",
    "        early_stopping_rounds=50\n",
    "    )\n",
    "\n",
    "#     y_pred = booster.predict(valid)\n",
    "#     rmse = mean_squared_error(y_val, y_pred, squared=False)\n",
    "#     mlflow.log_metric(\"rmse\", rmse)\n",
    "\n",
    "#     with open(\"models/preprocessor.b\", \"wb\") as f_out:\n",
    "#         pickle.dump(dv, f_out)\n",
    "#     mlflow.log_artifact(\"models/preprocessor.b\", artifact_path=\"preprocessor\")\n",
    "\n",
    "#     mlflow.xgboost.log_model(booster, artifact_path=\"models_mlflow\")"
   ]
  },
  {
   "cell_type": "code",
   "execution_count": null,
   "metadata": {},
   "outputs": [],
   "source": []
  },
  {
   "cell_type": "code",
   "execution_count": null,
   "metadata": {},
   "outputs": [],
   "source": []
  },
  {
   "cell_type": "code",
   "execution_count": 4,
   "metadata": {},
   "outputs": [],
   "source": [
    "from sklearn.ensemble import RandomForestRegressor, GradientBoostingRegressor, ExtraTreesRegressor\n",
    "from sklearn.svm import LinearSVR\n",
    "\n",
    "mlflow.sklearn.autolog()\n",
    "\n",
    "\n",
    "for model_class in (RandomForestRegressor, GradientBoostingRegressor, ExtraTreesRegressor, LinearSVR):\n",
    "    with mlflow.start_run():\n",
    "        mlflow.log_param(\"train-data-path\", \"./data/green_tripdata_2021-01.csv\")\n",
    "        mlflow.log_param(\"valid-data-path\", \"./data/green_tripdata_2021-02.csv\")\n",
    "        mlflow.log_artifact(\"models/preprocessor.b\", artifact_path=\"preprocessor\")\n",
    "\n",
    "        mlmodel = model_class()\n",
    "        mlmodel.fit(X_train, y_train)\n",
    "\n",
    "        y_pred = mlmodel.predict(X_val)\n",
    "        rmse = mean_squared_error(y_val, y_pred, squared=False)\n",
    "        mlflow.log_metric(\"rmse\", rmse)"
   ]
  },
  {
   "cell_type": "code",
   "execution_count": null,
   "metadata": {},
   "outputs": [],
   "source": []
  }
 ],
 "metadata": {
  "kernelspec": {
   "display_name": "Python [conda env:env_python38]",
   "language": "python",
   "name": "conda-env-env_python38-py"
  },
  "language_info": {
   "codemirror_mode": {
    "name": "ipython",
    "version": 3
   },
   "file_extension": ".py",
   "mimetype": "text/x-python",
   "name": "python",
   "nbconvert_exporter": "python",
   "pygments_lexer": "ipython3",
   "version": "3.8.13"
  }
 },
 "nbformat": 4,
 "nbformat_minor": 4
}
