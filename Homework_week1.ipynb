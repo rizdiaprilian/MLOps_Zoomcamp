{
 "cells": [
  {
   "cell_type": "markdown",
   "id": "05f5a668-49a0-4838-b8c1-fa4589faca01",
   "metadata": {},
   "source": [
    "## Week 1 Homework\n",
    "\n",
    "What we have learned in week 1 would be implemented to this homework with the purpose of experiencing hands-on data analysis, preprocessing, modelling and prediction on much similar problem, For-Hire Vehicle Trip Records."
   ]
  },
  {
   "cell_type": "code",
   "execution_count": null,
   "id": "69af9d59-ce14-4416-b7c6-f3e62e724ae7",
   "metadata": {},
   "outputs": [],
   "source": [
    "import pandas as pd\n",
    "import pickle\n",
    "import seaborn as sns\n",
    "import matplotlib.pyplot as plt\n",
    "\n",
    "from sklearn.feature_extraction import DictVectorizer\n",
    "from sklearn.linear_model import LinearRegression\n",
    "from sklearn.linear_model import Lasso\n",
    "from sklearn.linear_model import Ridge\n",
    "\n",
    "from sklearn.metrics import mean_squared_error\n",
    "import os\n",
    "from pathlib import Path"
   ]
  },
  {
   "cell_type": "code",
   "execution_count": 2,
   "id": "20e9a8ad-2907-4e49-ba38-4d88ea4892c2",
   "metadata": {},
   "outputs": [
    {
     "data": {
      "text/plain": [
       "WindowsPath('D:/github_repos/MLOps')"
      ]
     },
     "execution_count": 2,
     "metadata": {},
     "output_type": "execute_result"
    }
   ],
   "source": [
    "PATH_CUR = os.getcwd()\n",
    "p = Path(PATH_CUR)\n",
    "p.parents[0]"
   ]
  },
  {
   "cell_type": "markdown",
   "id": "a96e6e42-14da-4edd-b404-fa2c855df92e",
   "metadata": {},
   "source": [
    "## Q1. Downloading the data\n",
    "\n",
    "Download the data for January and February 2021.\n",
    "\n",
    "Note that you need \"For-Hire Vehicle Trip Records\", not \"High Volume For-Hire Vehicle Trip Records\".\n",
    "\n",
    "Read the data for January. How many records are there?"
   ]
  },
  {
   "cell_type": "code",
   "execution_count": 72,
   "id": "3fe79b7d-19fa-4762-b8ba-2fc114654212",
   "metadata": {},
   "outputs": [
    {
     "name": "stdout",
     "output_type": "stream",
     "text": [
      "<class 'pandas.core.frame.DataFrame'>\n",
      "RangeIndex: 1154112 entries, 0 to 1154111\n",
      "Data columns (total 7 columns):\n",
      " #   Column                  Non-Null Count    Dtype         \n",
      "---  ------                  --------------    -----         \n",
      " 0   dispatching_base_num    1154112 non-null  object        \n",
      " 1   pickup_datetime         1154112 non-null  datetime64[ns]\n",
      " 2   dropOff_datetime        1154112 non-null  datetime64[ns]\n",
      " 3   PUlocationID            195845 non-null   float64       \n",
      " 4   DOlocationID            991892 non-null   float64       \n",
      " 5   SR_Flag                 0 non-null        object        \n",
      " 6   Affiliated_base_number  1153227 non-null  object        \n",
      "dtypes: datetime64[ns](2), float64(2), object(3)\n",
      "memory usage: 61.6+ MB\n"
     ]
    }
   ],
   "source": [
    "df_hw = pd.read_parquet(os.path.join(p.parents[0], 'data/fhv_tripdata_2021-01.parquet'))\n",
    "df_hw.info()"
   ]
  },
  {
   "cell_type": "code",
   "execution_count": 156,
   "id": "83952a1f-09b5-4c08-a096-e6504dd4cc46",
   "metadata": {},
   "outputs": [
    {
     "data": {
      "text/plain": [
       "1154112"
      ]
     },
     "execution_count": 156,
     "metadata": {},
     "output_type": "execute_result"
    }
   ],
   "source": [
    "len(df_hw)"
   ]
  },
  {
   "cell_type": "markdown",
   "id": "f77f021d-90e7-4e1f-916c-695b6d963078",
   "metadata": {},
   "source": [
    "### Answer : 1154112 rows"
   ]
  },
  {
   "cell_type": "code",
   "execution_count": 157,
   "id": "1221eaaf-2666-41e9-88d5-363a1ce04b99",
   "metadata": {},
   "outputs": [
    {
     "data": {
      "text/html": [
       "<div>\n",
       "<style scoped>\n",
       "    .dataframe tbody tr th:only-of-type {\n",
       "        vertical-align: middle;\n",
       "    }\n",
       "\n",
       "    .dataframe tbody tr th {\n",
       "        vertical-align: top;\n",
       "    }\n",
       "\n",
       "    .dataframe thead th {\n",
       "        text-align: right;\n",
       "    }\n",
       "</style>\n",
       "<table border=\"1\" class=\"dataframe\">\n",
       "  <thead>\n",
       "    <tr style=\"text-align: right;\">\n",
       "      <th></th>\n",
       "      <th>dispatching_base_num</th>\n",
       "      <th>pickup_datetime</th>\n",
       "      <th>dropOff_datetime</th>\n",
       "      <th>PUlocationID</th>\n",
       "      <th>DOlocationID</th>\n",
       "      <th>SR_Flag</th>\n",
       "      <th>Affiliated_base_number</th>\n",
       "      <th>duration</th>\n",
       "    </tr>\n",
       "  </thead>\n",
       "  <tbody>\n",
       "    <tr>\n",
       "      <th>0</th>\n",
       "      <td>B00009</td>\n",
       "      <td>2021-01-01 00:27:00</td>\n",
       "      <td>2021-01-01 00:44:00</td>\n",
       "      <td>NaN</td>\n",
       "      <td>NaN</td>\n",
       "      <td>None</td>\n",
       "      <td>B00009</td>\n",
       "      <td>17.000000</td>\n",
       "    </tr>\n",
       "    <tr>\n",
       "      <th>1</th>\n",
       "      <td>B00009</td>\n",
       "      <td>2021-01-01 00:50:00</td>\n",
       "      <td>2021-01-01 01:07:00</td>\n",
       "      <td>NaN</td>\n",
       "      <td>NaN</td>\n",
       "      <td>None</td>\n",
       "      <td>B00009</td>\n",
       "      <td>17.000000</td>\n",
       "    </tr>\n",
       "    <tr>\n",
       "      <th>2</th>\n",
       "      <td>B00013</td>\n",
       "      <td>2021-01-01 00:01:00</td>\n",
       "      <td>2021-01-01 01:51:00</td>\n",
       "      <td>NaN</td>\n",
       "      <td>NaN</td>\n",
       "      <td>None</td>\n",
       "      <td>B00013</td>\n",
       "      <td>110.000000</td>\n",
       "    </tr>\n",
       "    <tr>\n",
       "      <th>3</th>\n",
       "      <td>B00037</td>\n",
       "      <td>2021-01-01 00:13:09</td>\n",
       "      <td>2021-01-01 00:21:26</td>\n",
       "      <td>NaN</td>\n",
       "      <td>72.0</td>\n",
       "      <td>None</td>\n",
       "      <td>B00037</td>\n",
       "      <td>8.283333</td>\n",
       "    </tr>\n",
       "    <tr>\n",
       "      <th>4</th>\n",
       "      <td>B00037</td>\n",
       "      <td>2021-01-01 00:38:31</td>\n",
       "      <td>2021-01-01 00:53:44</td>\n",
       "      <td>NaN</td>\n",
       "      <td>61.0</td>\n",
       "      <td>None</td>\n",
       "      <td>B00037</td>\n",
       "      <td>15.216667</td>\n",
       "    </tr>\n",
       "    <tr>\n",
       "      <th>5</th>\n",
       "      <td>B00037</td>\n",
       "      <td>2021-01-01 00:59:02</td>\n",
       "      <td>2021-01-01 01:08:05</td>\n",
       "      <td>NaN</td>\n",
       "      <td>71.0</td>\n",
       "      <td>None</td>\n",
       "      <td>B00037</td>\n",
       "      <td>9.050000</td>\n",
       "    </tr>\n",
       "    <tr>\n",
       "      <th>6</th>\n",
       "      <td>B00037</td>\n",
       "      <td>2021-01-01 00:18:12</td>\n",
       "      <td>2021-01-01 00:30:04</td>\n",
       "      <td>NaN</td>\n",
       "      <td>91.0</td>\n",
       "      <td>None</td>\n",
       "      <td>B00037</td>\n",
       "      <td>11.866667</td>\n",
       "    </tr>\n",
       "    <tr>\n",
       "      <th>7</th>\n",
       "      <td>B00037</td>\n",
       "      <td>2021-01-01 00:36:15</td>\n",
       "      <td>2021-01-01 00:45:08</td>\n",
       "      <td>NaN</td>\n",
       "      <td>39.0</td>\n",
       "      <td>None</td>\n",
       "      <td>B00037</td>\n",
       "      <td>8.883333</td>\n",
       "    </tr>\n",
       "    <tr>\n",
       "      <th>8</th>\n",
       "      <td>B00037</td>\n",
       "      <td>2021-01-01 00:55:04</td>\n",
       "      <td>2021-01-01 01:13:02</td>\n",
       "      <td>NaN</td>\n",
       "      <td>37.0</td>\n",
       "      <td>None</td>\n",
       "      <td>B00037</td>\n",
       "      <td>17.966667</td>\n",
       "    </tr>\n",
       "    <tr>\n",
       "      <th>9</th>\n",
       "      <td>B00037</td>\n",
       "      <td>2021-01-01 00:48:40</td>\n",
       "      <td>2021-01-01 01:12:02</td>\n",
       "      <td>NaN</td>\n",
       "      <td>39.0</td>\n",
       "      <td>None</td>\n",
       "      <td>B00037</td>\n",
       "      <td>23.366667</td>\n",
       "    </tr>\n",
       "  </tbody>\n",
       "</table>\n",
       "</div>"
      ],
      "text/plain": [
       "  dispatching_base_num     pickup_datetime    dropOff_datetime  PUlocationID  \\\n",
       "0               B00009 2021-01-01 00:27:00 2021-01-01 00:44:00           NaN   \n",
       "1               B00009 2021-01-01 00:50:00 2021-01-01 01:07:00           NaN   \n",
       "2               B00013 2021-01-01 00:01:00 2021-01-01 01:51:00           NaN   \n",
       "3               B00037 2021-01-01 00:13:09 2021-01-01 00:21:26           NaN   \n",
       "4               B00037 2021-01-01 00:38:31 2021-01-01 00:53:44           NaN   \n",
       "5               B00037 2021-01-01 00:59:02 2021-01-01 01:08:05           NaN   \n",
       "6               B00037 2021-01-01 00:18:12 2021-01-01 00:30:04           NaN   \n",
       "7               B00037 2021-01-01 00:36:15 2021-01-01 00:45:08           NaN   \n",
       "8               B00037 2021-01-01 00:55:04 2021-01-01 01:13:02           NaN   \n",
       "9               B00037 2021-01-01 00:48:40 2021-01-01 01:12:02           NaN   \n",
       "\n",
       "   DOlocationID SR_Flag Affiliated_base_number    duration  \n",
       "0           NaN    None                 B00009   17.000000  \n",
       "1           NaN    None                 B00009   17.000000  \n",
       "2           NaN    None                 B00013  110.000000  \n",
       "3          72.0    None                 B00037    8.283333  \n",
       "4          61.0    None                 B00037   15.216667  \n",
       "5          71.0    None                 B00037    9.050000  \n",
       "6          91.0    None                 B00037   11.866667  \n",
       "7          39.0    None                 B00037    8.883333  \n",
       "8          37.0    None                 B00037   17.966667  \n",
       "9          39.0    None                 B00037   23.366667  "
      ]
     },
     "execution_count": 157,
     "metadata": {},
     "output_type": "execute_result"
    }
   ],
   "source": [
    "df_hw.head(10)"
   ]
  },
  {
   "cell_type": "code",
   "execution_count": 74,
   "id": "e9e97def-54ab-4ca1-a270-c79a4f2f8c2a",
   "metadata": {},
   "outputs": [
    {
     "data": {
      "text/plain": [
       "Timedelta('0 days 00:17:00')"
      ]
     },
     "execution_count": 74,
     "metadata": {},
     "output_type": "execute_result"
    }
   ],
   "source": [
    "df_hw.iloc[0]['dropOff_datetime'] - df_hw.iloc[0]['pickup_datetime']"
   ]
  },
  {
   "cell_type": "code",
   "execution_count": 75,
   "id": "14e6785b-181e-4ba6-9bdc-02dd2025803a",
   "metadata": {},
   "outputs": [
    {
     "data": {
      "text/plain": [
       "Timedelta('0 days 00:17:00')"
      ]
     },
     "execution_count": 75,
     "metadata": {},
     "output_type": "execute_result"
    }
   ],
   "source": [
    "df_hw.iloc[1]['dropOff_datetime'] - df_hw.iloc[1]['pickup_datetime']"
   ]
  },
  {
   "cell_type": "code",
   "execution_count": 76,
   "id": "ce8e9cbe-6adc-4cf0-8512-17ac79cb459a",
   "metadata": {},
   "outputs": [
    {
     "data": {
      "text/plain": [
       "Timedelta('0 days 01:50:00')"
      ]
     },
     "execution_count": 76,
     "metadata": {},
     "output_type": "execute_result"
    }
   ],
   "source": [
    "df_hw.iloc[2]['dropOff_datetime'] - df_hw.iloc[2]['pickup_datetime']"
   ]
  },
  {
   "cell_type": "markdown",
   "id": "3caeb1d7-7302-4a1e-8cdd-b7331a087cd7",
   "metadata": {},
   "source": [
    "## Q2. Computing duration\n",
    "Now let's compute the duration variable. It should contain the duration of a ride in minutes.\n",
    "\n",
    "What's the average trip duration in January?"
   ]
  },
  {
   "cell_type": "code",
   "execution_count": 77,
   "id": "ee399a8c-ecb6-4edf-90bf-0afe359054d0",
   "metadata": {},
   "outputs": [
    {
     "data": {
      "text/html": [
       "<div>\n",
       "<style scoped>\n",
       "    .dataframe tbody tr th:only-of-type {\n",
       "        vertical-align: middle;\n",
       "    }\n",
       "\n",
       "    .dataframe tbody tr th {\n",
       "        vertical-align: top;\n",
       "    }\n",
       "\n",
       "    .dataframe thead th {\n",
       "        text-align: right;\n",
       "    }\n",
       "</style>\n",
       "<table border=\"1\" class=\"dataframe\">\n",
       "  <thead>\n",
       "    <tr style=\"text-align: right;\">\n",
       "      <th></th>\n",
       "      <th>duration</th>\n",
       "    </tr>\n",
       "  </thead>\n",
       "  <tbody>\n",
       "    <tr>\n",
       "      <th>0</th>\n",
       "      <td>0 days 00:17:00</td>\n",
       "    </tr>\n",
       "    <tr>\n",
       "      <th>1</th>\n",
       "      <td>0 days 00:17:00</td>\n",
       "    </tr>\n",
       "    <tr>\n",
       "      <th>2</th>\n",
       "      <td>0 days 01:50:00</td>\n",
       "    </tr>\n",
       "    <tr>\n",
       "      <th>3</th>\n",
       "      <td>0 days 00:08:17</td>\n",
       "    </tr>\n",
       "    <tr>\n",
       "      <th>4</th>\n",
       "      <td>0 days 00:15:13</td>\n",
       "    </tr>\n",
       "  </tbody>\n",
       "</table>\n",
       "</div>"
      ],
      "text/plain": [
       "         duration\n",
       "0 0 days 00:17:00\n",
       "1 0 days 00:17:00\n",
       "2 0 days 01:50:00\n",
       "3 0 days 00:08:17\n",
       "4 0 days 00:15:13"
      ]
     },
     "execution_count": 77,
     "metadata": {},
     "output_type": "execute_result"
    }
   ],
   "source": [
    "df_hw['duration'] = df_hw.dropOff_datetime - df_hw.pickup_datetime\n",
    "df_hw[['duration']].head()"
   ]
  },
  {
   "cell_type": "code",
   "execution_count": 78,
   "id": "aef1787d-fdfc-47b6-8cc4-0c50d690a19f",
   "metadata": {},
   "outputs": [
    {
     "data": {
      "text/html": [
       "<div>\n",
       "<style scoped>\n",
       "    .dataframe tbody tr th:only-of-type {\n",
       "        vertical-align: middle;\n",
       "    }\n",
       "\n",
       "    .dataframe tbody tr th {\n",
       "        vertical-align: top;\n",
       "    }\n",
       "\n",
       "    .dataframe thead th {\n",
       "        text-align: right;\n",
       "    }\n",
       "</style>\n",
       "<table border=\"1\" class=\"dataframe\">\n",
       "  <thead>\n",
       "    <tr style=\"text-align: right;\">\n",
       "      <th></th>\n",
       "      <th>duration</th>\n",
       "    </tr>\n",
       "  </thead>\n",
       "  <tbody>\n",
       "    <tr>\n",
       "      <th>0</th>\n",
       "      <td>17.000000</td>\n",
       "    </tr>\n",
       "    <tr>\n",
       "      <th>1</th>\n",
       "      <td>17.000000</td>\n",
       "    </tr>\n",
       "    <tr>\n",
       "      <th>2</th>\n",
       "      <td>110.000000</td>\n",
       "    </tr>\n",
       "    <tr>\n",
       "      <th>3</th>\n",
       "      <td>8.283333</td>\n",
       "    </tr>\n",
       "    <tr>\n",
       "      <th>4</th>\n",
       "      <td>15.216667</td>\n",
       "    </tr>\n",
       "  </tbody>\n",
       "</table>\n",
       "</div>"
      ],
      "text/plain": [
       "     duration\n",
       "0   17.000000\n",
       "1   17.000000\n",
       "2  110.000000\n",
       "3    8.283333\n",
       "4   15.216667"
      ]
     },
     "execution_count": 78,
     "metadata": {},
     "output_type": "execute_result"
    }
   ],
   "source": [
    "df_hw.duration = df_hw.duration.apply(lambda td: td.total_seconds() / 60)\n",
    "df_hw[['duration']].head()"
   ]
  },
  {
   "cell_type": "code",
   "execution_count": 79,
   "id": "526b369c-2588-4610-a376-b1c330a6fe65",
   "metadata": {},
   "outputs": [
    {
     "data": {
      "text/plain": [
       "count    1.154112e+06\n",
       "mean     1.916722e+01\n",
       "std      3.986922e+02\n",
       "min      1.666667e-02\n",
       "25%      7.766667e+00\n",
       "50%      1.340000e+01\n",
       "75%      2.228333e+01\n",
       "max      4.233710e+05\n",
       "Name: duration, dtype: float64"
      ]
     },
     "execution_count": 79,
     "metadata": {},
     "output_type": "execute_result"
    }
   ],
   "source": [
    "df_hw.duration.describe()"
   ]
  },
  {
   "cell_type": "markdown",
   "id": "c771dacf-1ae7-4850-99b1-8b346bde8707",
   "metadata": {},
   "source": [
    "### Answer: 19.16"
   ]
  },
  {
   "cell_type": "markdown",
   "id": "37c3d5ba-e5da-4f6e-b6b1-ecf50de232fc",
   "metadata": {},
   "source": [
    "## Data Preparation\n",
    "Let's remove them and keep only the records where the duration was between 1 and 60 minutes (inclusive).\n",
    "\n",
    "How many records did you drop? "
   ]
  },
  {
   "cell_type": "code",
   "execution_count": 113,
   "id": "f06dc0b2-950b-4158-b7d3-2a6376b15cf4",
   "metadata": {},
   "outputs": [],
   "source": [
    "df_hw_filt = df_hw[(df_hw.duration >= 1) & (df_hw.duration <= 60)]"
   ]
  },
  {
   "cell_type": "code",
   "execution_count": 114,
   "id": "6fcefe7f-e878-4740-b983-55ef7d31ac00",
   "metadata": {},
   "outputs": [
    {
     "name": "stdout",
     "output_type": "stream",
     "text": [
      "Records removed after filtering is 44286 rows.\n"
     ]
    }
   ],
   "source": [
    "print(f'Records removed after filtering is {len(df_hw) - len(df_hw_filt)} rows.')"
   ]
  },
  {
   "cell_type": "markdown",
   "id": "d3aa2bc6-e507-49e2-90b8-83ecda7f15f3",
   "metadata": {},
   "source": [
    "### Answer: 44286 records"
   ]
  },
  {
   "cell_type": "code",
   "execution_count": 82,
   "id": "5396cbc2-626c-4869-b69b-603594f10a01",
   "metadata": {},
   "outputs": [
    {
     "name": "stderr",
     "output_type": "stream",
     "text": [
      "C:\\Users\\rizdi\\miniconda3\\envs\\env_python38\\lib\\site-packages\\seaborn\\distributions.py:2557: FutureWarning: `distplot` is a deprecated function and will be removed in a future version. Please adapt your code to use either `displot` (a figure-level function with similar flexibility) or `histplot` (an axes-level function for histograms).\n",
      "  warnings.warn(msg, FutureWarning)\n"
     ]
    },
    {
     "data": {
      "image/png": "[encoded data removed]",
      "text/plain": [
       "<Figure size 640x480 with 1 Axes>"
      ]
     },
     "metadata": {},
     "output_type": "display_data"
    }
   ],
   "source": [
    "import seaborn as sns\n",
    "\n",
    "sns.distplot(df_hw_filt.duration)\n",
    "plt.show()"
   ]
  },
  {
   "cell_type": "markdown",
   "id": "80226233-b458-46ba-bad0-17a5a13b5f75",
   "metadata": {},
   "source": [
    "## Q3. Missing values\n",
    "The features we'll use for our model are the pickup and dropoff location IDs.\n",
    "\n",
    "But they have a lot of missing values there. Let's replace them with \"-1\".\n",
    "\n",
    "What's the fractions of missing values for the pickup location ID? I.e. fraction of \"-1\"s after you filled the NAs."
   ]
  },
  {
   "cell_type": "code",
   "execution_count": 115,
   "id": "075f2de3-36ee-480a-a4f1-724c883775ea",
   "metadata": {},
   "outputs": [
    {
     "name": "stdout",
     "output_type": "stream",
     "text": [
      "Missing values fraction on the pickup location ID: 83.53%\n",
      "Missing values fraction on the dropoff location ID: 13.33%\n"
     ]
    }
   ],
   "source": [
    "print(f'Missing values fraction on the pickup location ID: {100*df_hw_filt.PUlocationID.isna().sum()/len(df_hw_filt):.2f}%')\n",
    "print(f'Missing values fraction on the dropoff location ID: {100*df_hw_filt.DOlocationID.isna().sum()/len(df_hw_filt):.2f}%')"
   ]
  },
  {
   "cell_type": "markdown",
   "id": "1735d4a3-fa6b-4289-8d65-138bc53f411d",
   "metadata": {},
   "source": [
    "### Answer: 83.53%"
   ]
  },
  {
   "cell_type": "code",
   "execution_count": 116,
   "id": "f6eb7b5f-efdc-4b01-8211-acb1673aebf7",
   "metadata": {},
   "outputs": [
    {
     "name": "stderr",
     "output_type": "stream",
     "text": [
      "C:\\Users\\rizdi\\miniconda3\\envs\\env_python38\\lib\\site-packages\\pandas\\core\\generic.py:5494: SettingWithCopyWarning: \n",
      "A value is trying to be set on a copy of a slice from a DataFrame.\n",
      "Try using .loc[row_indexer,col_indexer] = value instead\n",
      "\n",
      "See the caveats in the documentation: https://pandas.pydata.org/pandas-docs/stable/user_guide/indexing.html#returning-a-view-versus-a-copy\n",
      "  self[name] = value\n"
     ]
    }
   ],
   "source": [
    "## Fillna with value \"-1\"\n",
    "df_hw_filt.PUlocationID = df_hw_filt.PUlocationID.fillna(-1)\n",
    "df_hw_filt.DOlocationID = df_hw_filt.DOlocationID.fillna(-1)"
   ]
  },
  {
   "cell_type": "code",
   "execution_count": 117,
   "id": "59e701b2-f398-4ad8-b418-1eb53e6f6973",
   "metadata": {},
   "outputs": [
    {
     "name": "stdout",
     "output_type": "stream",
     "text": [
      "Missing values fraction on the pickup location ID: 0.00%\n",
      "Missing values fraction on the dropoff location ID: 0.00%\n"
     ]
    }
   ],
   "source": [
    "print(f'Missing values fraction on the pickup location ID: {100*df_hw_filt.PUlocationID.isna().sum()/len(df_hw_filt):.2f}%')\n",
    "print(f'Missing values fraction on the dropoff location ID: {100*df_hw_filt.DOlocationID.isna().sum()/len(df_hw_filt):.2f}%')"
   ]
  },
  {
   "cell_type": "code",
   "execution_count": 118,
   "id": "b8d4525b-af13-4ea1-a9e5-85a704a0949a",
   "metadata": {},
   "outputs": [
    {
     "data": {
      "text/plain": [
       "-1.0      927008\n",
       " 221.0      8330\n",
       "Name: PUlocationID, dtype: int64"
      ]
     },
     "execution_count": 118,
     "metadata": {},
     "output_type": "execute_result"
    }
   ],
   "source": [
    "df_hw_filt['PUlocationID'].value_counts().nlargest(2)"
   ]
  },
  {
   "cell_type": "markdown",
   "id": "7e548603-5b15-40a2-8860-99e05ed6f149",
   "metadata": {},
   "source": [
    "### Q4. One-hot encoding\n",
    "\n",
    "Let's apply one-hot encoding to the pickup and dropoff location IDs. We'll use only these two features for our model. \n",
    "\n",
    "* Turn the dataframe into a list of dictionaries\n",
    "* Fit a dictionary vectorizer \n",
    "* Get a feature matrix from it\n",
    "\n",
    "What's the dimensionality of this matrix? (The number of columns)"
   ]
  },
  {
   "cell_type": "code",
   "execution_count": 119,
   "id": "f524c157-7fec-461c-8ee8-170cf6066f5d",
   "metadata": {},
   "outputs": [
    {
     "name": "stderr",
     "output_type": "stream",
     "text": [
      "C:\\Users\\rizdi\\miniconda3\\envs\\env_python38\\lib\\site-packages\\pandas\\core\\frame.py:3191: SettingWithCopyWarning: \n",
      "A value is trying to be set on a copy of a slice from a DataFrame.\n",
      "Try using .loc[row_indexer,col_indexer] = value instead\n",
      "\n",
      "See the caveats in the documentation: https://pandas.pydata.org/pandas-docs/stable/user_guide/indexing.html#returning-a-view-versus-a-copy\n",
      "  self[k1] = value[k2]\n"
     ]
    }
   ],
   "source": [
    "from sklearn.feature_extraction import DictVectorizer\n",
    "\n",
    "categorical = ['PUlocationID', 'DOlocationID']\n",
    "# numerical = ['trip_distance']\n",
    "\n",
    "df_hw_filt[categorical] = df_hw_filt[categorical].astype(str)"
   ]
  },
  {
   "cell_type": "code",
   "execution_count": 120,
   "id": "384d7f22-6e2b-49ef-8896-358e85c5c201",
   "metadata": {},
   "outputs": [
    {
     "data": {
      "text/plain": [
       "dispatching_base_num              object\n",
       "pickup_datetime           datetime64[ns]\n",
       "dropOff_datetime          datetime64[ns]\n",
       "PUlocationID                      object\n",
       "DOlocationID                      object\n",
       "SR_Flag                           object\n",
       "Affiliated_base_number            object\n",
       "duration                         float64\n",
       "dtype: object"
      ]
     },
     "execution_count": 120,
     "metadata": {},
     "output_type": "execute_result"
    }
   ],
   "source": [
    "df_hw_filt.dtypes"
   ]
  },
  {
   "cell_type": "code",
   "execution_count": 121,
   "id": "e9296165-9e59-4f97-ba76-8e34f107fb3f",
   "metadata": {},
   "outputs": [
    {
     "data": {
      "text/plain": [
       "[{'PUlocationID': '-1.0', 'DOlocationID': '-1.0'},\n",
       " {'PUlocationID': '-1.0', 'DOlocationID': '-1.0'},\n",
       " {'PUlocationID': '-1.0', 'DOlocationID': '72.0'},\n",
       " {'PUlocationID': '-1.0', 'DOlocationID': '61.0'},\n",
       " {'PUlocationID': '-1.0', 'DOlocationID': '71.0'},\n",
       " {'PUlocationID': '-1.0', 'DOlocationID': '91.0'},\n",
       " {'PUlocationID': '-1.0', 'DOlocationID': '39.0'}]"
      ]
     },
     "execution_count": 121,
     "metadata": {},
     "output_type": "execute_result"
    }
   ],
   "source": [
    "df_hw_filt[categorical].iloc[:7].to_dict(orient='records')"
   ]
  },
  {
   "cell_type": "code",
   "execution_count": 145,
   "id": "623a7fc0-dbfe-4aa5-8d25-ec374a38fee6",
   "metadata": {},
   "outputs": [],
   "source": [
    "train_dicts = df_hw_filt[categorical].to_dict(orient='records')\n",
    "\n",
    "dv = DictVectorizer()\n",
    "X_train = dv.fit_transform(train_dicts)"
   ]
  },
  {
   "cell_type": "code",
   "execution_count": 146,
   "id": "4245d7d4-cafa-4c4a-bdc1-63f49a2bcd40",
   "metadata": {},
   "outputs": [
    {
     "data": {
      "text/plain": [
       "<1109826x525 sparse matrix of type '<class 'numpy.float64'>'\n",
       "\twith 2219652 stored elements in Compressed Sparse Row format>"
      ]
     },
     "execution_count": 146,
     "metadata": {},
     "output_type": "execute_result"
    }
   ],
   "source": [
    "X_train"
   ]
  },
  {
   "cell_type": "code",
   "execution_count": 158,
   "id": "59ebf079-eb53-4655-9330-666000e73ca7",
   "metadata": {},
   "outputs": [
    {
     "data": {
      "text/plain": [
       "525"
      ]
     },
     "execution_count": 158,
     "metadata": {},
     "output_type": "execute_result"
    }
   ],
   "source": [
    "X_train.shape[1]"
   ]
  },
  {
   "cell_type": "markdown",
   "id": "fa82b0ed-3062-4309-b59a-ad2df0dae3b2",
   "metadata": {},
   "source": [
    "### Answer: 525"
   ]
  },
  {
   "cell_type": "markdown",
   "id": "602b8f83-9e67-43b6-b351-6246f74440e3",
   "metadata": {},
   "source": [
    "### Q5. Training a model\n",
    "\n",
    "Now let's use the feature matrix from the previous step to train a model. \n",
    "\n",
    "* Train a plain linear regression model with default parameters \n",
    "* Calculate the RMSE of the model on the training data\n",
    "\n",
    "What's the RMSE on train?"
   ]
  },
  {
   "cell_type": "code",
   "execution_count": 148,
   "id": "d4a4c32f-2962-4971-8b58-b7db41906108",
   "metadata": {},
   "outputs": [],
   "source": [
    "target = 'duration'\n",
    "y_train = df_hw_filt[target].values"
   ]
  },
  {
   "cell_type": "code",
   "execution_count": 149,
   "id": "57e949dc-c913-4631-8a4a-6b5748267ed3",
   "metadata": {},
   "outputs": [
    {
     "name": "stdout",
     "output_type": "stream",
     "text": [
      "RMSE: 10.528519107223724\n"
     ]
    }
   ],
   "source": [
    "lr = LinearRegression()\n",
    "lr.fit(X_train, y_train)\n",
    "y_pred = lr.predict(X_train)\n",
    "\n",
    "error_rmse = mean_squared_error(y_train, y_pred, squared=False)\n",
    "print(f'RMSE: {error_rmse}')"
   ]
  },
  {
   "cell_type": "markdown",
   "id": "d18ed9e3-c825-4912-a04e-50342a307bf1",
   "metadata": {
    "jp-MarkdownHeadingCollapsed": true,
    "tags": []
   },
   "source": [
    "### Answer: 10.52"
   ]
  },
  {
   "cell_type": "markdown",
   "id": "b5c06d56-4f3c-44ae-a04b-4bf3ab6e4db8",
   "metadata": {},
   "source": [
    "### Q6. Evaluating the model\n",
    "\n",
    "Now let's apply this model to the validation dataset (Feb 2021). \n",
    "\n",
    "What's the RMSE on validation?"
   ]
  },
  {
   "cell_type": "code",
   "execution_count": 136,
   "id": "11ad5fa1-7988-4f4f-a9a5-6d6f5d311b13",
   "metadata": {},
   "outputs": [],
   "source": [
    "def read_dataframe(filename):\n",
    "    if filename.endswith('.csv'):\n",
    "        df_hw = pd.read_csv(filename)\n",
    "    elif filename.endswith('.parquet'):\n",
    "        df_hw = pd.read_parquet(filename)\n",
    "    \n",
    "    df_hw['duration'] = df_hw.dropOff_datetime - df_hw.pickup_datetime\n",
    "    df_hw.duration = df_hw.duration.apply(lambda td: td.total_seconds() / 60)\n",
    "    df_hw = df_hw[(df_hw.duration >= 1) & (df_hw.duration <= 60)]\n",
    "    df_hw.PUlocationID = df_hw.PUlocationID.fillna(-1)\n",
    "    df_hw.DOlocationID = df_hw.DOlocationID.fillna(-1)\n",
    "    categorical = ['PUlocationID', 'DOlocationID']\n",
    "    df_hw[categorical] = df_hw[categorical].astype(str)\n",
    "    \n",
    "    return df_hw"
   ]
  },
  {
   "cell_type": "code",
   "execution_count": 137,
   "id": "35a065bc-4fd7-4196-8f83-460e7accd787",
   "metadata": {},
   "outputs": [
    {
     "data": {
      "text/html": [
       "<div>\n",
       "<style scoped>\n",
       "    .dataframe tbody tr th:only-of-type {\n",
       "        vertical-align: middle;\n",
       "    }\n",
       "\n",
       "    .dataframe tbody tr th {\n",
       "        vertical-align: top;\n",
       "    }\n",
       "\n",
       "    .dataframe thead th {\n",
       "        text-align: right;\n",
       "    }\n",
       "</style>\n",
       "<table border=\"1\" class=\"dataframe\">\n",
       "  <thead>\n",
       "    <tr style=\"text-align: right;\">\n",
       "      <th></th>\n",
       "      <th>dispatching_base_num</th>\n",
       "      <th>pickup_datetime</th>\n",
       "      <th>dropOff_datetime</th>\n",
       "      <th>PUlocationID</th>\n",
       "      <th>DOlocationID</th>\n",
       "      <th>SR_Flag</th>\n",
       "      <th>Affiliated_base_number</th>\n",
       "      <th>duration</th>\n",
       "    </tr>\n",
       "  </thead>\n",
       "  <tbody>\n",
       "    <tr>\n",
       "      <th>1</th>\n",
       "      <td>B00021</td>\n",
       "      <td>2021-02-01 00:55:40</td>\n",
       "      <td>2021-02-01 01:06:20</td>\n",
       "      <td>173.0</td>\n",
       "      <td>82.0</td>\n",
       "      <td>None</td>\n",
       "      <td>B00021</td>\n",
       "      <td>10.666667</td>\n",
       "    </tr>\n",
       "    <tr>\n",
       "      <th>2</th>\n",
       "      <td>B00021</td>\n",
       "      <td>2021-02-01 00:14:03</td>\n",
       "      <td>2021-02-01 00:28:37</td>\n",
       "      <td>173.0</td>\n",
       "      <td>56.0</td>\n",
       "      <td>None</td>\n",
       "      <td>B00021</td>\n",
       "      <td>14.566667</td>\n",
       "    </tr>\n",
       "    <tr>\n",
       "      <th>3</th>\n",
       "      <td>B00021</td>\n",
       "      <td>2021-02-01 00:27:48</td>\n",
       "      <td>2021-02-01 00:35:45</td>\n",
       "      <td>82.0</td>\n",
       "      <td>129.0</td>\n",
       "      <td>None</td>\n",
       "      <td>B00021</td>\n",
       "      <td>7.950000</td>\n",
       "    </tr>\n",
       "    <tr>\n",
       "      <th>4</th>\n",
       "      <td>B00037</td>\n",
       "      <td>2021-02-01 00:12:50</td>\n",
       "      <td>2021-02-01 00:26:38</td>\n",
       "      <td>-1.0</td>\n",
       "      <td>225.0</td>\n",
       "      <td>None</td>\n",
       "      <td>B00037</td>\n",
       "      <td>13.800000</td>\n",
       "    </tr>\n",
       "    <tr>\n",
       "      <th>5</th>\n",
       "      <td>B00037</td>\n",
       "      <td>2021-02-01 00:00:37</td>\n",
       "      <td>2021-02-01 00:09:35</td>\n",
       "      <td>-1.0</td>\n",
       "      <td>61.0</td>\n",
       "      <td>None</td>\n",
       "      <td>B00037</td>\n",
       "      <td>8.966667</td>\n",
       "    </tr>\n",
       "  </tbody>\n",
       "</table>\n",
       "</div>"
      ],
      "text/plain": [
       "  dispatching_base_num     pickup_datetime    dropOff_datetime PUlocationID  \\\n",
       "1      B00021          2021-02-01 00:55:40 2021-02-01 01:06:20        173.0   \n",
       "2      B00021          2021-02-01 00:14:03 2021-02-01 00:28:37        173.0   \n",
       "3      B00021          2021-02-01 00:27:48 2021-02-01 00:35:45         82.0   \n",
       "4               B00037 2021-02-01 00:12:50 2021-02-01 00:26:38         -1.0   \n",
       "5               B00037 2021-02-01 00:00:37 2021-02-01 00:09:35         -1.0   \n",
       "\n",
       "  DOlocationID SR_Flag Affiliated_base_number   duration  \n",
       "1         82.0    None        B00021           10.666667  \n",
       "2         56.0    None        B00021           14.566667  \n",
       "3        129.0    None        B00021            7.950000  \n",
       "4        225.0    None                 B00037  13.800000  \n",
       "5         61.0    None                 B00037   8.966667  "
      ]
     },
     "execution_count": 137,
     "metadata": {},
     "output_type": "execute_result"
    }
   ],
   "source": [
    "df_val = read_dataframe(os.path.join(p.parents[0], 'data/fhv_tripdata_2021-02.parquet'))\n",
    "df_val.head()"
   ]
  },
  {
   "cell_type": "code",
   "execution_count": 139,
   "id": "a1468539-8ac9-4509-8bd9-5cc517f6a972",
   "metadata": {},
   "outputs": [
    {
     "data": {
      "text/plain": [
       "dispatching_base_num              object\n",
       "pickup_datetime           datetime64[ns]\n",
       "dropOff_datetime          datetime64[ns]\n",
       "PUlocationID                      object\n",
       "DOlocationID                      object\n",
       "SR_Flag                           object\n",
       "Affiliated_base_number            object\n",
       "duration                         float64\n",
       "dtype: object"
      ]
     },
     "execution_count": 139,
     "metadata": {},
     "output_type": "execute_result"
    }
   ],
   "source": [
    "df_val.dtypes"
   ]
  },
  {
   "cell_type": "code",
   "execution_count": 159,
   "id": "327d8c6f-5a4b-4469-834b-2cc380031af6",
   "metadata": {},
   "outputs": [],
   "source": [
    "del X_val, y_val, lr_val, y_pred_val"
   ]
  },
  {
   "cell_type": "code",
   "execution_count": 160,
   "id": "e520c53e-0d13-4034-8666-a3def2893a34",
   "metadata": {},
   "outputs": [
    {
     "data": {
      "text/html": [
       "<div>\n",
       "<style scoped>\n",
       "    .dataframe tbody tr th:only-of-type {\n",
       "        vertical-align: middle;\n",
       "    }\n",
       "\n",
       "    .dataframe tbody tr th {\n",
       "        vertical-align: top;\n",
       "    }\n",
       "\n",
       "    .dataframe thead th {\n",
       "        text-align: right;\n",
       "    }\n",
       "</style>\n",
       "<table border=\"1\" class=\"dataframe\">\n",
       "  <thead>\n",
       "    <tr style=\"text-align: right;\">\n",
       "      <th></th>\n",
       "      <th>dispatching_base_num</th>\n",
       "      <th>pickup_datetime</th>\n",
       "      <th>dropOff_datetime</th>\n",
       "      <th>PUlocationID</th>\n",
       "      <th>DOlocationID</th>\n",
       "      <th>SR_Flag</th>\n",
       "      <th>Affiliated_base_number</th>\n",
       "      <th>duration</th>\n",
       "    </tr>\n",
       "  </thead>\n",
       "  <tbody>\n",
       "    <tr>\n",
       "      <th>1</th>\n",
       "      <td>B00021</td>\n",
       "      <td>2021-02-01 00:55:40</td>\n",
       "      <td>2021-02-01 01:06:20</td>\n",
       "      <td>173.0</td>\n",
       "      <td>82.0</td>\n",
       "      <td>None</td>\n",
       "      <td>B00021</td>\n",
       "      <td>10.666667</td>\n",
       "    </tr>\n",
       "    <tr>\n",
       "      <th>2</th>\n",
       "      <td>B00021</td>\n",
       "      <td>2021-02-01 00:14:03</td>\n",
       "      <td>2021-02-01 00:28:37</td>\n",
       "      <td>173.0</td>\n",
       "      <td>56.0</td>\n",
       "      <td>None</td>\n",
       "      <td>B00021</td>\n",
       "      <td>14.566667</td>\n",
       "    </tr>\n",
       "    <tr>\n",
       "      <th>3</th>\n",
       "      <td>B00021</td>\n",
       "      <td>2021-02-01 00:27:48</td>\n",
       "      <td>2021-02-01 00:35:45</td>\n",
       "      <td>82.0</td>\n",
       "      <td>129.0</td>\n",
       "      <td>None</td>\n",
       "      <td>B00021</td>\n",
       "      <td>7.950000</td>\n",
       "    </tr>\n",
       "    <tr>\n",
       "      <th>4</th>\n",
       "      <td>B00037</td>\n",
       "      <td>2021-02-01 00:12:50</td>\n",
       "      <td>2021-02-01 00:26:38</td>\n",
       "      <td>-1.0</td>\n",
       "      <td>225.0</td>\n",
       "      <td>None</td>\n",
       "      <td>B00037</td>\n",
       "      <td>13.800000</td>\n",
       "    </tr>\n",
       "    <tr>\n",
       "      <th>5</th>\n",
       "      <td>B00037</td>\n",
       "      <td>2021-02-01 00:00:37</td>\n",
       "      <td>2021-02-01 00:09:35</td>\n",
       "      <td>-1.0</td>\n",
       "      <td>61.0</td>\n",
       "      <td>None</td>\n",
       "      <td>B00037</td>\n",
       "      <td>8.966667</td>\n",
       "    </tr>\n",
       "  </tbody>\n",
       "</table>\n",
       "</div>"
      ],
      "text/plain": [
       "  dispatching_base_num     pickup_datetime    dropOff_datetime PUlocationID  \\\n",
       "1      B00021          2021-02-01 00:55:40 2021-02-01 01:06:20        173.0   \n",
       "2      B00021          2021-02-01 00:14:03 2021-02-01 00:28:37        173.0   \n",
       "3      B00021          2021-02-01 00:27:48 2021-02-01 00:35:45         82.0   \n",
       "4               B00037 2021-02-01 00:12:50 2021-02-01 00:26:38         -1.0   \n",
       "5               B00037 2021-02-01 00:00:37 2021-02-01 00:09:35         -1.0   \n",
       "\n",
       "  DOlocationID SR_Flag Affiliated_base_number   duration  \n",
       "1         82.0    None        B00021           10.666667  \n",
       "2         56.0    None        B00021           14.566667  \n",
       "3        129.0    None        B00021            7.950000  \n",
       "4        225.0    None                 B00037  13.800000  \n",
       "5         61.0    None                 B00037   8.966667  "
      ]
     },
     "execution_count": 160,
     "metadata": {},
     "output_type": "execute_result"
    }
   ],
   "source": [
    "df_val.head()"
   ]
  },
  {
   "cell_type": "code",
   "execution_count": 161,
   "id": "f96860d5-8518-475e-a4f4-763736b30efd",
   "metadata": {},
   "outputs": [],
   "source": [
    "categorical = ['PUlocationID', 'DOlocationID']\n",
    "val_dicts = df_val[categorical].to_dict(orient='records')\n",
    "\n",
    "# dv_val = DictVectorizer()\n",
    "X_val = dv.transform(val_dicts)"
   ]
  },
  {
   "cell_type": "code",
   "execution_count": 162,
   "id": "987d7621-b9bf-49e5-84e8-64fde8cf6e1d",
   "metadata": {},
   "outputs": [
    {
     "data": {
      "text/plain": [
       "(990113, 525)"
      ]
     },
     "execution_count": 162,
     "metadata": {},
     "output_type": "execute_result"
    }
   ],
   "source": [
    "X_val.shape"
   ]
  },
  {
   "cell_type": "code",
   "execution_count": 163,
   "id": "7de12994-572f-48db-8c5c-c93428c24a1b",
   "metadata": {},
   "outputs": [],
   "source": [
    "target = 'duration'\n",
    "y_val = df_val[target].values"
   ]
  },
  {
   "cell_type": "code",
   "execution_count": 164,
   "id": "4d7d93a7-b330-41c9-9bf2-888aba5ed850",
   "metadata": {},
   "outputs": [
    {
     "data": {
      "text/plain": [
       "(990113,)"
      ]
     },
     "execution_count": 164,
     "metadata": {},
     "output_type": "execute_result"
    }
   ],
   "source": [
    "y_val.shape"
   ]
  },
  {
   "cell_type": "code",
   "execution_count": 165,
   "id": "29041d00-d8e3-4040-b58f-98c6f33f9101",
   "metadata": {},
   "outputs": [
    {
     "name": "stdout",
     "output_type": "stream",
     "text": [
      "RMSE: 11.01428321783417\n"
     ]
    }
   ],
   "source": [
    "y_pred_val = lr.predict(X_val)\n",
    "\n",
    "error_rmse = mean_squared_error(y_val, y_pred_val, squared=False)\n",
    "print(f'RMSE: {error_rmse}')"
   ]
  },
  {
   "cell_type": "markdown",
   "id": "cefa1556-9315-47ac-9196-4e14a664105c",
   "metadata": {},
   "source": [
    "### Answer: 11.01"
   ]
  }
 ],
 "metadata": {
  "kernelspec": {
   "display_name": "Python [conda env:env_python38]",
   "language": "python",
   "name": "conda-env-env_python38-py"
  },
  "language_info": {
   "codemirror_mode": {
    "name": "ipython",
    "version": 3
   },
   "file_extension": ".py",
   "mimetype": "text/x-python",
   "name": "python",
   "nbconvert_exporter": "python",
   "pygments_lexer": "ipython3",
   "version": "3.8.13"
  }
 },
 "nbformat": 4,
 "nbformat_minor": 5
}
